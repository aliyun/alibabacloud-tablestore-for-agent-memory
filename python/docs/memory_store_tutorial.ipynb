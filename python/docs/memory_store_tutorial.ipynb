{
 "cells": [
  {
   "metadata": {},
   "cell_type": "markdown",
   "source": "# Memory Store 使用指南",
   "id": "d2318bd61f80aac1"
  },
  {
   "metadata": {},
   "cell_type": "markdown",
   "source": "# 1. 初始化\n",
   "id": "336bfcc516a2c4f8"
  },
  {
   "metadata": {
    "ExecuteTime": {
     "end_time": "2025-04-17T06:54:36.847151Z",
     "start_time": "2025-04-17T06:54:36.832885Z"
    }
   },
   "cell_type": "code",
   "source": [
    "import tablestore\n",
    "from tablestore_for_agent_memory.base.common import MetaType\n",
    "from tablestore_for_agent_memory.memory.memory_store import MemoryStore\n",
    "import os\n",
    "\n",
    "endpoint = os.getenv(\"tablestore_end_point\")\n",
    "instance_name = os.getenv(\"tablestore_instance_name\")\n",
    "access_key_id = os.getenv(\"tablestore_access_key_id\")\n",
    "access_key_secret = os.getenv(\"tablestore_access_key_secret\")\n",
    "\n",
    "# 创建 tablestore 的 sdk client\n",
    "tablestore_client = tablestore.OTSClient(\n",
    "    endpoint,\n",
    "    access_key_id,\n",
    "    access_key_secret,\n",
    "    instance_name,\n",
    "    retry_policy=tablestore.WriteRetryPolicy(),\n",
    ")\n",
    "\n",
    "# 根据 Session 的更新时间 进行 list_recent_sessions 时候，需要返回哪些字段?\n",
    "session_secondary_index_meta = {\n",
    "    \"meta_string\": MetaType.STRING,\n",
    "    \"meta_long\": MetaType.INTEGER,\n",
    "    \"meta_double\": MetaType.DOUBLE,\n",
    "    \"meta_boolean\": MetaType.BOOLEAN,\n",
    "    \"meta_bytes\": MetaType.BINARY,\n",
    "}\n",
    "\n",
    "# session 表的 多元索引的meta信息，能进行meta的多字段自由组合查询。例如搜索session的title\n",
    "# 如果无需该功能，不需要传该参数\n",
    "session_search_index_schema = [\n",
    "    tablestore.FieldSchema(\n",
    "        \"title\",\n",
    "        tablestore.FieldType.TEXT,\n",
    "        analyzer=tablestore.AnalyzerType.FUZZY,\n",
    "        analyzer_parameter=tablestore.FuzzyAnalyzerParameter(1, 4),\n",
    "    ),\n",
    "    tablestore.FieldSchema(\"meta_string\", tablestore.FieldType.KEYWORD),\n",
    "    tablestore.FieldSchema(\"meta_long\", tablestore.FieldType.LONG),\n",
    "    tablestore.FieldSchema(\"meta_double\", tablestore.FieldType.DOUBLE),\n",
    "    tablestore.FieldSchema(\"meta_boolean\", tablestore.FieldType.BOOLEAN),\n",
    "]\n",
    "\n",
    "# message 表的 多元索引的 meta 信息，能进行 meta 的多字段自由组合查询。例如搜索 message 的 content 中包含“你好”的消息记录\n",
    "# content 字段默认会创建索引，这里仅需设置meta字段即可。\n",
    "# 如果无需该功能，不需要传该参数\n",
    "message_search_index_schema = [\n",
    "    tablestore.FieldSchema(\"meta_string\", tablestore.FieldType.KEYWORD),\n",
    "    tablestore.FieldSchema(\"meta_long\", tablestore.FieldType.LONG),\n",
    "    tablestore.FieldSchema(\"meta_double\", tablestore.FieldType.DOUBLE),\n",
    "    tablestore.FieldSchema(\"meta_boolean\", tablestore.FieldType.BOOLEAN),\n",
    "]\n",
    "\n",
    "memory_store = MemoryStore(\n",
    "    tablestore_client=tablestore_client,\n",
    "    session_secondary_index_meta=session_secondary_index_meta,\n",
    "    session_search_index_schema=session_search_index_schema,\n",
    "    message_search_index_schema=message_search_index_schema,\n",
    ")"
   ],
   "id": "a04cc4bb3461d7df",
   "outputs": [],
   "execution_count": 3
  },
  {
   "metadata": {
    "ExecuteTime": {
     "end_time": "2025-04-17T06:01:49.481827Z",
     "start_time": "2025-04-17T06:01:47.283967Z"
    }
   },
   "cell_type": "code",
   "source": [
    "# 创建表(包括二级索引)，能完成 Memory 场景的核心能力\n",
    "# 仅需执行一次\n",
    "memory_store.init_table()\n",
    "\n",
    "# 创建多元索引，能进行meta的多字段自由组合查询，需要在上面声明一些meta字段。后续索引结构可以在控制台上修改。\n",
    "memory_store.init_search_index()"
   ],
   "id": "1d23040f50e60d07",
   "outputs": [],
   "execution_count": 4
  },
  {
   "metadata": {
    "ExecuteTime": {
     "end_time": "2025-04-17T06:01:45.817422Z",
     "start_time": "2025-04-17T06:01:45.257897Z"
    }
   },
   "cell_type": "code",
   "source": [
    "# 删除表（内部接口，仅供测试使用）\n",
    "memory_store._delete_table()"
   ],
   "id": "b0c964451c48fd19",
   "outputs": [],
   "execution_count": 3
  },
  {
   "metadata": {},
   "cell_type": "markdown",
   "source": [
    "# 2. Session 会话管理\n",
    "\n",
    "一个Session属于一个User，一个User有n个Session，每个Session有n个聊天消息Message，本章节主要介绍Session的管理\n",
    "\n",
    "## 2.1 声明 Session"
   ],
   "id": "ac7fa8532175aef3"
  },
  {
   "metadata": {
    "ExecuteTime": {
     "end_time": "2025-04-17T06:01:50.788812Z",
     "start_time": "2025-04-17T06:01:50.784277Z"
    }
   },
   "cell_type": "code",
   "source": [
    "from tablestore_for_agent_memory.base.common import microseconds_timestamp\n",
    "from tablestore_for_agent_memory.base.base_memory_store import Session\n",
    "\n",
    "# 声明一个Session（user_id和session_id联合起来确认唯一一个session）,推荐使用uuid当做session_id\n",
    "session = Session(user_id=\"1\", session_id=\"2\")\n",
    "# 指定Session的更新时间(可以不写，默认是微妙时间戳)\n",
    "session.update_time = microseconds_timestamp()\n",
    "# 给这个Session附加一些meta信息,支持的类型包括以下:\n",
    "session.metadata[\"meta_string\"] = \"4\"\n",
    "session.metadata[\"meta_long\"] = 5\n",
    "session.metadata[\"meta_double\"] = 6.6\n",
    "session.metadata[\"meta_boolean\"] = True\n",
    "session.metadata[\"meta_bytes\"] = bytearray(\"China\", encoding=\"utf8\")"
   ],
   "id": "78a9e9e47e75273e",
   "outputs": [],
   "execution_count": 5
  },
  {
   "metadata": {},
   "cell_type": "markdown",
   "source": "## 2.2 创建、更新、查询、删除 Session\n",
   "id": "83e9778329996b68"
  },
  {
   "metadata": {
    "ExecuteTime": {
     "end_time": "2025-04-17T06:01:52.736251Z",
     "start_time": "2025-04-17T06:01:52.661509Z"
    }
   },
   "cell_type": "code",
   "source": [
    "# 覆盖写\n",
    "memory_store.put_session(session)\n",
    "# 查询\n",
    "session = memory_store.get_session(user_id=\"1\", session_id=\"2\")\n",
    "print(session)"
   ],
   "id": "ab3fe35b80b7c38d",
   "outputs": [
    {
     "name": "stdout",
     "output_type": "stream",
     "text": [
      "Session(user_id='1', session_id='2', update_time=1744869710786900, metadata={'meta_boolean': True, 'meta_bytes': bytearray(b'China'), 'meta_double': 6.6, 'meta_long': 5, 'meta_string': '4'})\n"
     ]
    }
   ],
   "execution_count": 6
  },
  {
   "metadata": {
    "ExecuteTime": {
     "end_time": "2025-04-17T06:01:54.448524Z",
     "start_time": "2025-04-17T06:01:54.388312Z"
    }
   },
   "cell_type": "code",
   "source": [
    "session.metadata[\"meta_string\"] = \"updated\"\n",
    "# 增量更新(不存在则创建新的，普通写入推荐使用put_session)\n",
    "memory_store.update_session(session)\n",
    "print(memory_store.get_session(user_id=\"1\", session_id=\"2\"))"
   ],
   "id": "29ccac828c84080e",
   "outputs": [
    {
     "name": "stdout",
     "output_type": "stream",
     "text": [
      "Session(user_id='1', session_id='2', update_time=1744869710786900, metadata={'meta_boolean': True, 'meta_bytes': bytearray(b'China'), 'meta_double': 6.6, 'meta_long': 5, 'meta_string': 'updated'})\n"
     ]
    }
   ],
   "execution_count": 7
  },
  {
   "metadata": {
    "ExecuteTime": {
     "end_time": "2025-04-17T06:01:55.780760Z",
     "start_time": "2025-04-17T06:01:55.720885Z"
    }
   },
   "cell_type": "code",
   "source": [
    "# 删除\n",
    "memory_store.delete_session(user_id=\"1\", session_id=\"2\")\n",
    "print(memory_store.get_session(user_id=\"1\", session_id=\"2\"))"
   ],
   "id": "f126da607b6f23db",
   "outputs": [
    {
     "name": "stdout",
     "output_type": "stream",
     "text": [
      "None\n"
     ]
    }
   ],
   "execution_count": 8
  },
  {
   "metadata": {},
   "cell_type": "markdown",
   "source": [
    "## 2.3 展示最近活跃的Session\n",
    "\n",
    "根据 session 更新时间`session.update_time` 展示最近活跃列表。\n",
    "\n",
    "### 2.3.1 写入样例数据\n",
    " "
   ],
   "id": "bb023cf50e1c70b7"
  },
  {
   "metadata": {
    "ExecuteTime": {
     "end_time": "2025-04-17T06:10:07.942599Z",
     "start_time": "2025-04-17T06:10:04.354862Z"
    }
   },
   "cell_type": "code",
   "source": [
    "from faker import Faker\n",
    "import random\n",
    "\n",
    "fk_data = Faker(locale=\"zh_CN\")\n",
    "\n",
    "\n",
    "def random_session(user_id=fk_data.user_name()) -> Session:\n",
    "    session = Session(user_id=user_id, session_id=fk_data.uuid4())\n",
    "    session.metadata[\"title\"] = random.choice([\"abc\", \"def\", \"ghi\", \"abcd\", \"abcdef\", \"abcgh\"])\n",
    "    session.metadata[\"meta_string\"] = fk_data.name()\n",
    "    session.metadata[\"meta_long\"] = random.randint(0, 9999999999999)\n",
    "    session.metadata[\"meta_double\"] = random.uniform(0.0, 1.0)\n",
    "    session.metadata[\"meta_boolean\"] = random.choice([True, False])\n",
    "    session.metadata[\"meta_bytes\"] = bytearray(fk_data.name(), encoding=\"utf8\")\n",
    "    return session\n",
    "\n",
    "\n",
    "total_count = 100\n",
    "for i in range(total_count):\n",
    "    user_id = random.choice([\"1\", \"2\"])\n",
    "    session = random_session(user_id=user_id)\n",
    "    session.update_time = random.randint(1, 100)\n",
    "    memory_store.put_session(session)"
   ],
   "id": "873c02f6ba8fa12f",
   "outputs": [],
   "execution_count": 31
  },
  {
   "metadata": {},
   "cell_type": "markdown",
   "source": "### 2.3.2 展示某一个用户最近的活跃会话列表\n",
   "id": "2f72a842803ce3ed"
  },
  {
   "metadata": {},
   "cell_type": "code",
   "source": [
    "# 方式1：接口返回 iterator 迭代器\n",
    "iterator = memory_store.list_recent_sessions(user_id=\"1\")\n",
    "for session in iterator:\n",
    "    print(session)"
   ],
   "id": "786261cf69fd1fb4",
   "outputs": [],
   "execution_count": null
  },
  {
   "metadata": {
    "ExecuteTime": {
     "end_time": "2025-04-17T06:11:27.250913Z",
     "start_time": "2025-04-17T06:11:26.966Z"
    }
   },
   "cell_type": "code",
   "source": [
    "# 方式2：token分页返回数据（该token可以传递给前端，方便进行按批次分页查询）\n",
    "response = memory_store.list_recent_sessions_paginated(user_id=\"1\", page_size=10, next_token=None)\n",
    "print(len(response.hits))\n",
    "print(response.next_token)\n",
    "# 翻页查询（使用上一次结果里返回的token，传递给下次使用）\n",
    "response = memory_store.list_recent_sessions_paginated(user_id=\"1\", page_size=10, next_token=response.next_token)\n",
    "print(len(response.hits))\n",
    "print(response.next_token)\n",
    "# 后续循环此方式，直到token为None表示查询结束。"
   ],
   "id": "57f5af80f67a696a",
   "outputs": [
    {
     "name": "stdout",
     "output_type": "stream",
     "text": [
      "10\n",
      "W1sidXNlcl9pZCIsICIxIl0sIFsidXBkYXRlX3RpbWUiLCA3NF0sIFsic2Vzc2lvbl9pZCIsICJlYTk4OTdmNy00NTQ2LTQ3NmEtOWFmNi1iYWM0YmZlMzFkMDUiXV0=\n",
      "10\n",
      "W1sidXNlcl9pZCIsICIxIl0sIFsidXBkYXRlX3RpbWUiLCA1MF0sIFsic2Vzc2lvbl9pZCIsICI1OWYyMTJkMi1lNTMxLTQ0MWItODU3ZC00ODAyM2JiMTNmODYiXV0=\n"
     ]
    }
   ],
   "execution_count": 2
  },
  {
   "metadata": {
    "ExecuteTime": {
     "end_time": "2025-04-17T06:02:09.090266Z",
     "start_time": "2025-04-17T06:02:08.986501Z"
    }
   },
   "cell_type": "code",
   "source": [
    "# 将 iterator 迭代器转成list使用\n",
    "sessions = list(memory_store.list_recent_sessions(user_id=\"1\"))\n",
    "print(len(sessions))\n",
    "\n",
    "# 仅获取其前 5 个值。推荐使用该方法，因为用户量大了，列出所有session会越来越慢，因此仅需列出其最活跃的即可。\n",
    "sessions = list(memory_store.list_recent_sessions(user_id=\"1\", max_count=5))\n",
    "print(len(sessions))\n",
    "\n",
    "# 获取前 5 个\n",
    "sessions = list(memory_store.list_recent_sessions(user_id=\"1\", max_count=5))\n",
    "print(len(sessions))"
   ],
   "id": "c19d6746450b50df",
   "outputs": [
    {
     "name": "stdout",
     "output_type": "stream",
     "text": [
      "57\n",
      "5\n",
      "5\n"
     ]
    }
   ],
   "execution_count": 12
  },
  {
   "metadata": {},
   "cell_type": "markdown",
   "source": "### 2.3.3 根据 metadata 进行 filter",
   "id": "bbbdbbca77a1cbe7"
  },
  {
   "metadata": {
    "ExecuteTime": {
     "end_time": "2025-04-17T06:02:11.149629Z",
     "start_time": "2025-04-17T06:02:11.111508Z"
    }
   },
   "cell_type": "code",
   "source": [
    "from tablestore_for_agent_memory.base.filter import Filters\n",
    "\n",
    "# 使用 单个 Filter 进行过滤\n",
    "sessions = list(memory_store.list_recent_sessions(user_id=\"1\", metadata_filter=Filters.eq(\"meta_boolean\", True)))\n",
    "print(len(sessions))"
   ],
   "id": "a7e6f039fc27ef2e",
   "outputs": [
    {
     "name": "stdout",
     "output_type": "stream",
     "text": [
      "26\n"
     ]
    }
   ],
   "execution_count": 13
  },
  {
   "metadata": {
    "ExecuteTime": {
     "end_time": "2025-04-17T06:02:15.349948Z",
     "start_time": "2025-04-17T06:02:15.275515Z"
    }
   },
   "cell_type": "code",
   "source": [
    "from tablestore_for_agent_memory.base.filter import Filters\n",
    "\n",
    "# 使用 多个 Filter 进行过滤\n",
    "sessions = list(\n",
    "    memory_store.list_recent_sessions(\n",
    "        user_id=\"1\",\n",
    "        metadata_filter=Filters.logical_and([Filters.gt(\"meta_double\", 0.5), Filters.eq(\"meta_boolean\", True)]),\n",
    "    )\n",
    ")\n",
    "print(len(sessions))"
   ],
   "id": "21273da7b141ce38",
   "outputs": [
    {
     "name": "stdout",
     "output_type": "stream",
     "text": [
      "13\n"
     ]
    }
   ],
   "execution_count": 14
  },
  {
   "metadata": {},
   "cell_type": "markdown",
   "source": "### 2.3.4 设置查询Session的截止时间",
   "id": "a38857b1bfd5f17f"
  },
  {
   "metadata": {
    "ExecuteTime": {
     "end_time": "2025-04-17T06:02:21.543526Z",
     "start_time": "2025-04-17T06:02:21.502892Z"
    }
   },
   "cell_type": "code",
   "source": [
    "sessions = list(\n",
    "    memory_store.list_recent_sessions(\n",
    "        user_id=\"1\",\n",
    "        inclusive_end_update_time=50,\n",
    "        metadata_filter=Filters.eq(\"meta_boolean\", True),\n",
    "    )\n",
    ")\n",
    "print(len(sessions))\n",
    "print([item.update_time for item in sessions])"
   ],
   "id": "87eb55a4462608d7",
   "outputs": [
    {
     "name": "stdout",
     "output_type": "stream",
     "text": [
      "16\n",
      "[97, 95, 94, 93, 89, 87, 87, 69, 67, 61, 58, 56, 55, 55, 52, 51]\n"
     ]
    }
   ],
   "execution_count": 15
  },
  {
   "metadata": {},
   "cell_type": "markdown",
   "source": "## 2.4 Search 搜索 Meta 字段\n",
   "id": "11ee2084b00f1f69"
  },
  {
   "metadata": {
    "ExecuteTime": {
     "end_time": "2025-04-17T06:03:39.550103Z",
     "start_time": "2025-04-17T06:03:38.502303Z"
    }
   },
   "cell_type": "code",
   "source": [
    "all_sessions = []\n",
    "# 查询 user_id=1的所有记录，使用 next_token 进行翻页\n",
    "response = memory_store.search_sessions(metadata_filter=Filters.eq(\"user_id\", \"1\"), limit=3)\n",
    "sessions, next_token = (response.hits, response.next_token)\n",
    "all_sessions.extend(sessions)\n",
    "print(len(sessions))\n",
    "print(next_token)\n",
    "# 连续翻页示例\n",
    "next_token = None\n",
    "while True:\n",
    "    response = memory_store.search_sessions(metadata_filter=Filters.eq(\"user_id\", \"1\"), limit=3, next_token=next_token)\n",
    "    sessions, next_token = (response.hits, response.next_token)\n",
    "    all_sessions.extend(sessions)\n",
    "    # 当 next_token 为 None 时候，表示翻页结束\n",
    "    if next_token is None:\n",
    "        break\n",
    "print(\"all_sessions:\", len(all_sessions))"
   ],
   "id": "d1733dc0c54a467",
   "outputs": [
    {
     "name": "stdout",
     "output_type": "stream",
     "text": [
      "3\n",
      "CAESBgoEIgIIABgAIlUKUwNOAAAAMVMzMS5TMzE2MjM4Mzg2MzMwNjE2NDJkNjEzNzM2NjIyZDM0MzM2MjMyMmQ2MjM3MzczNzJkNjIzMzMxMzU2NTYzNjMzNzMzMzUzNTY0\n",
      "all_sessions: 60\n"
     ]
    }
   ],
   "execution_count": 16
  },
  {
   "metadata": {
    "ExecuteTime": {
     "end_time": "2025-04-17T06:03:53.264489Z",
     "start_time": "2025-04-17T06:03:53.210310Z"
    }
   },
   "cell_type": "code",
   "source": [
    "# 全文检索 session 的 title 字段，需要包含 \"ab\". 如果需要翻页，可以将next_token传给前端，以便下次进行连续翻页查询，请参考上述的 while true 示例。\n",
    "response = memory_store.search_sessions(\n",
    "    metadata_filter=Filters.logical_and([Filters.eq(\"user_id\", \"1\"), Filters.text_match_phrase(\"title\", \"ab\")]),\n",
    "    limit=100,\n",
    ")\n",
    "sessions, next_token = (response.hits, response.next_token)\n",
    "print(len(sessions))"
   ],
   "id": "508b3a6c6c7c873c",
   "outputs": [
    {
     "name": "stdout",
     "output_type": "stream",
     "text": [
      "39\n"
     ]
    }
   ],
   "execution_count": 17
  },
  {
   "metadata": {},
   "cell_type": "markdown",
   "source": [
    "# 3. Message 聊天消息\n",
    "\n",
    "一个Session有n个聊天消息Message，本章节主要介绍Message的使用。\n",
    "\n",
    "## 3.1 声明 Message\n"
   ],
   "id": "ea00c3f3f17fcfcc"
  },
  {
   "metadata": {
    "ExecuteTime": {
     "end_time": "2025-04-17T06:03:56.061547Z",
     "start_time": "2025-04-17T06:03:56.053315Z"
    }
   },
   "cell_type": "code",
   "source": [
    "from faker import Faker\n",
    "\n",
    "fk_data = Faker(locale=\"zh_CN\")\n",
    "\n",
    "from tablestore_for_agent_memory.base.base_memory_store import Message\n",
    "import random\n",
    "\n",
    "# 创建一条message（session_id 和 message_id 联合起来确认唯一一行数据）\n",
    "message = Message(\n",
    "    session_id=\"推荐uuid当做session_id\",\n",
    "    message_id=\"可以使用uuid或其他业务string当做message_id\",\n",
    "    create_time=random.randint(\n",
    "        0, 999999999\n",
    "    ),  # create_time 不可变，用来确认这条消息在一个会话(session)里的位置信息(或者叫排序信息)\n",
    ")\n",
    "\n",
    "message.content = fk_data.text(20)\n",
    "message.metadata[\"meta_string\"] = fk_data.name_male()\n",
    "message.metadata[\"meta_long\"] = random.randint(0, 999999999)\n",
    "message.metadata[\"meta_double\"] = random.uniform(1.0, 2.0)\n",
    "message.metadata[\"meta_boolean\"] = random.choice([True, False])\n",
    "message.metadata[\"meta_bytes\"] = bytearray(fk_data.city_name(), encoding=\"utf8\")"
   ],
   "id": "507e048477c35bbf",
   "outputs": [],
   "execution_count": 18
  },
  {
   "metadata": {},
   "cell_type": "markdown",
   "source": "## 3.2 写入、查询、更新、删除一条聊天记录",
   "id": "a41690a44e24d26c"
  },
  {
   "metadata": {
    "ExecuteTime": {
     "end_time": "2025-04-17T06:04:00.457559Z",
     "start_time": "2025-04-17T06:04:00.052229Z"
    }
   },
   "cell_type": "code",
   "source": [
    "# 写入\n",
    "memory_store.put_message(message)\n",
    "\n",
    "# 查询 (不指定create_time)\n",
    "message_read = memory_store.get_message(session_id=message.session_id, message_id=message.message_id)\n",
    "print(message_read)\n",
    "\n",
    "# 查询 (指定create_time，性能更好，查单条message场景的QPS较高的用户可以传。因该领域大多数业务查询单条聊天消息的场景或qps很少，所以不带也没关系，大多数用户的场景是list出来一批最近的聊天消息，而不是查询单条)\n",
    "message_read = memory_store.get_message(\n",
    "    session_id=message.session_id, message_id=message.message_id, create_time=message.create_time\n",
    ")\n",
    "print(message_read)\n",
    "\n",
    "# 更新\n",
    "message.content = \"update to: 123\"\n",
    "memory_store.update_message(message)\n",
    "message_read_after_update = memory_store.get_message(\n",
    "    session_id=message.session_id, message_id=message.message_id, create_time=message.create_time\n",
    ")\n",
    "print(message_read_after_update)\n",
    "\n",
    "# 删除 (不指定create_time)\n",
    "memory_store.delete_message(session_id=message.session_id, message_id=message.message_id)\n",
    "# 删除（(指定create_time，性能更好，原因参考上述查询接口描述）\n",
    "memory_store.delete_message(\n",
    "    session_id=message.session_id, message_id=message.message_id, create_time=message.create_time\n",
    ")\n",
    "# 删除后查询不到\n",
    "print(memory_store.get_message(session_id=message.session_id, message_id=message.message_id))"
   ],
   "id": "6c4165a212218ae4",
   "outputs": [
    {
     "name": "stdout",
     "output_type": "stream",
     "text": [
      "Message(session_id='推荐uuid当做session_id', message_id='可以使用uuid或其他业务string当做message_id', create_time=783174296, content='成功政府地方的是类别汽车资料状态他的.', metadata={'meta_boolean': False, 'meta_bytes': bytearray(b'\\xe8\\xbe\\x9b\\xe9\\x9b\\x86'), 'meta_double': 1.9802964476651883, 'meta_long': 584474057, 'meta_string': '萧海燕'})\n",
      "Message(session_id='推荐uuid当做session_id', message_id='可以使用uuid或其他业务string当做message_id', create_time=783174296, content='成功政府地方的是类别汽车资料状态他的.', metadata={'meta_boolean': False, 'meta_bytes': bytearray(b'\\xe8\\xbe\\x9b\\xe9\\x9b\\x86'), 'meta_double': 1.9802964476651883, 'meta_long': 584474057, 'meta_string': '萧海燕'})\n",
      "Message(session_id='推荐uuid当做session_id', message_id='可以使用uuid或其他业务string当做message_id', create_time=783174296, content='update to: 123', metadata={'meta_boolean': False, 'meta_bytes': bytearray(b'\\xe8\\xbe\\x9b\\xe9\\x9b\\x86'), 'meta_double': 1.9802964476651883, 'meta_long': 584474057, 'meta_string': '萧海燕'})\n",
      "None\n"
     ]
    }
   ],
   "execution_count": 19
  },
  {
   "metadata": {},
   "cell_type": "markdown",
   "source": [
    "## 3.3 获取某一个session会话的聊天消息\n",
    "\n",
    "### 3.3.1 写入样例数据"
   ],
   "id": "89b4b58579edbd26"
  },
  {
   "metadata": {
    "ExecuteTime": {
     "end_time": "2025-04-17T06:04:05.963806Z",
     "start_time": "2025-04-17T06:04:03.979751Z"
    }
   },
   "cell_type": "code",
   "source": [
    "from faker import Faker\n",
    "import random\n",
    "\n",
    "fk_data = Faker(locale=\"zh_CN\")\n",
    "\n",
    "\n",
    "def random_message(session_id=fk_data.user_name()) -> Message:\n",
    "    message = Message(session_id=session_id, message_id=fk_data.uuid4())\n",
    "    message.create_time = random.randint(0, 999999999)\n",
    "    message.content = \" \".join(\n",
    "        random.choices(\n",
    "            [\"abc\", \"def\", \"ghi\", \"abcd\", \"adef\", \"abcgh\", \"apple\", \"banana\", \"cherry\"], k=random.randint(1, 10)\n",
    "        )\n",
    "    )\n",
    "    message.metadata[\"meta_string\"] = fk_data.name_male()\n",
    "    message.metadata[\"meta_long\"] = random.randint(0, 999999999)\n",
    "    message.metadata[\"meta_double\"] = random.uniform(1.0, 2.0)\n",
    "    message.metadata[\"meta_boolean\"] = random.choice([True, False])\n",
    "    message.metadata[\"meta_bytes\"] = bytearray(fk_data.city_name(), encoding=\"utf8\")\n",
    "    return message\n",
    "\n",
    "\n",
    "total_count = 50\n",
    "for i in range(total_count):\n",
    "    session_id = random.choice([\"1\", \"2\"])\n",
    "    message = random_message(session_id=session_id)\n",
    "    message.create_time = random.randint(1, 100)\n",
    "    memory_store.put_message(message)"
   ],
   "id": "74afbb3a789a8b67",
   "outputs": [],
   "execution_count": 20
  },
  {
   "metadata": {},
   "cell_type": "markdown",
   "source": [
    "\n",
    "### 3.3.2 获取所有消息\n",
    "根据业务方的经验，在大模型聊天场景下，越早的消息其实不太需要的，仅需要最近的个别几条即可，因此更推荐下一小章节的“获取最近的部分消息”。"
   ],
   "id": "36740d0e5ec22a5f"
  },
  {
   "metadata": {
    "ExecuteTime": {
     "end_time": "2025-04-17T06:04:06.785058Z",
     "start_time": "2025-04-17T06:04:06.734127Z"
    }
   },
   "cell_type": "code",
   "source": [
    "# 获取某一个session_id的全部聊天消息（默认根据 create_time 从最新到旧排序，接口返回 iterator 迭代器）\n",
    "iterator = memory_store.list_messages(session_id=\"1\")\n",
    "# 将 iterator 迭代器 转为list使用\n",
    "messages = list(iterator)\n",
    "print(len(messages))"
   ],
   "id": "f31b1c546ec337b3",
   "outputs": [
    {
     "name": "stdout",
     "output_type": "stream",
     "text": [
      "23\n"
     ]
    }
   ],
   "execution_count": 21
  },
  {
   "metadata": {
    "ExecuteTime": {
     "end_time": "2025-04-17T06:04:08.367319Z",
     "start_time": "2025-04-17T06:04:08.327488Z"
    }
   },
   "cell_type": "code",
   "source": [
    "from tablestore_for_agent_memory.base.filter import Filters\n",
    "\n",
    "# 根据 metadata Filter 获取某一个session的全部数据\n",
    "messages = list(\n",
    "    memory_store.list_messages(\n",
    "        session_id=\"1\",\n",
    "        metadata_filter=Filters.logical_and([Filters.gt(\"meta_double\", 0.5), Filters.eq(\"meta_boolean\", True)]),\n",
    "    )\n",
    ")\n",
    "print(len(messages))"
   ],
   "id": "d5525386ce116fc2",
   "outputs": [
    {
     "name": "stdout",
     "output_type": "stream",
     "text": [
      "12\n"
     ]
    }
   ],
   "execution_count": 22
  },
  {
   "metadata": {
    "ExecuteTime": {
     "end_time": "2025-04-17T06:04:10.187562Z",
     "start_time": "2025-04-17T06:04:10.140900Z"
    }
   },
   "cell_type": "code",
   "source": [
    "# 所有session的所有message（注意，量可能较大，请使用迭代器访问，不要放到一个list里）\n",
    "iterator = memory_store.list_all_messages()"
   ],
   "id": "f46d9ec7c468f174",
   "outputs": [],
   "execution_count": 23
  },
  {
   "metadata": {},
   "cell_type": "markdown",
   "source": [
    "### 3.3.3 获取最近的部分消息\n",
    "#### 3.3.3.1 获取最近的 3 条消息"
   ],
   "id": "bbf5f883a7875d6f"
  },
  {
   "metadata": {
    "ExecuteTime": {
     "end_time": "2025-04-17T06:04:12.706853Z",
     "start_time": "2025-04-17T06:04:12.628885Z"
    }
   },
   "cell_type": "code",
   "source": [
    "iterator = memory_store.list_messages(session_id=\"1\", max_count=3)\n",
    "messages = list(iterator)\n",
    "print(len(messages))\n",
    "\n",
    "# 根据 metadata 过滤，返回最近的3条消息\n",
    "messages = list(\n",
    "    memory_store.list_messages(session_id=\"1\", metadata_filter=Filters.eq(\"meta_boolean\", True), max_count=3)\n",
    ")\n",
    "print(len(messages))"
   ],
   "id": "fb9c84fd36907a0a",
   "outputs": [
    {
     "name": "stdout",
     "output_type": "stream",
     "text": [
      "3\n",
      "3\n"
     ]
    }
   ],
   "execution_count": 24
  },
  {
   "metadata": {},
   "cell_type": "markdown",
   "source": [
    "\n",
    "#### 3.3.3.2 按照时间获取\n"
   ],
   "id": "bcb1ad6d1dd7efd3"
  },
  {
   "metadata": {
    "ExecuteTime": {
     "end_time": "2025-04-17T06:04:14.788169Z",
     "start_time": "2025-04-17T06:04:14.660912Z"
    }
   },
   "cell_type": "code",
   "source": [
    "from tablestore_for_agent_memory.base.common import Order\n",
    "\n",
    "# 获取 session_id=“1” 且创建时间在10~50范围内的数据，排序方式为正序(create_time 从最旧到新)\n",
    "messages = list(\n",
    "    memory_store.list_messages(\n",
    "        session_id=\"1\",\n",
    "        inclusive_start_create_time=10,\n",
    "        inclusive_end_create_time=50,\n",
    "        order=Order.ASC,\n",
    "    )\n",
    ")\n",
    "print(len(messages))\n",
    "\n",
    "# 获取 session_id=“1” 且创建时间在10~80范围内的数据，排序方式为逆序(create_time 从最新到旧)，因此起始时间是80，结束时间是10.\n",
    "messages = list(\n",
    "    memory_store.list_messages(\n",
    "        session_id=\"1\",\n",
    "        inclusive_start_create_time=80,\n",
    "        inclusive_end_create_time=10,\n",
    "        order=Order.DESC,\n",
    "    )\n",
    ")\n",
    "print(len(messages))\n",
    "\n",
    "# 获取 session_id=“1” 且创建时间在10~80范围内的数据，排序方式为逆序(create_time 从最新到旧),同时指定 metadata filter\n",
    "messages = list(\n",
    "    memory_store.list_messages(\n",
    "        session_id=\"1\",\n",
    "        inclusive_start_create_time=80,\n",
    "        inclusive_end_create_time=10,\n",
    "        order=Order.DESC,\n",
    "        metadata_filter=Filters.logical_and([Filters.gt(\"meta_double\", 0.5), Filters.eq(\"meta_boolean\", True)]),\n",
    "    )\n",
    ")\n",
    "print(len(messages))"
   ],
   "id": "ab0e3a086c7d9d33",
   "outputs": [
    {
     "name": "stdout",
     "output_type": "stream",
     "text": [
      "13\n",
      "17\n",
      "9\n"
     ]
    }
   ],
   "execution_count": 25
  },
  {
   "metadata": {},
   "cell_type": "markdown",
   "source": "## 3.4 Search 搜索 Meta 信息",
   "id": "bb238ef2d652e6f4"
  },
  {
   "metadata": {
    "ExecuteTime": {
     "end_time": "2025-04-17T06:04:59.422211Z",
     "start_time": "2025-04-17T06:04:58.250136Z"
    }
   },
   "cell_type": "code",
   "source": [
    "all_messages = []\n",
    "# 查询 session_id=1的所有记录，使用 next_token 进行翻页\n",
    "response = memory_store.search_messages(metadata_filter=Filters.eq(\"session_id\", \"1\"), limit=3)\n",
    "messages, next_token = (response.hits, response.next_token)\n",
    "all_messages.extend(messages)\n",
    "print(len(messages))\n",
    "print(next_token)\n",
    "# 连续翻页示例\n",
    "next_token = None\n",
    "while True:\n",
    "    response = memory_store.search_sessions(metadata_filter=Filters.eq(\"user_id\", \"1\"), limit=3, next_token=next_token)\n",
    "    messages, next_token = (response.hits, response.next_token)\n",
    "    all_messages.extend(messages)\n",
    "    # 当 next_token 为 None 时候，表示翻页结束\n",
    "    if next_token is None:\n",
    "        break\n",
    "print(\"all_messages:\", len(all_messages))"
   ],
   "id": "da5958f9cbec76cf",
   "outputs": [
    {
     "name": "stdout",
     "output_type": "stream",
     "text": [
      "3\n",
      "CAESBgoEIgIIABgAImcKZQNgAAAAMVMzMS5MODAwMDAwMDAwMDAwMDAwNy5TNjUzMDM5MzE2NDMwNjE2MTJkNjUzNDMzNjQyZDM0MzIzNjYxMmQzOTM5MzA2MjJkMzEzMTM2NjQzNDYyNjQ2MjYxMzE2MTYx\n",
      "all_messages: 60\n"
     ]
    }
   ],
   "execution_count": 26
  },
  {
   "metadata": {
    "ExecuteTime": {
     "end_time": "2025-04-17T06:05:05.927362Z",
     "start_time": "2025-04-17T06:05:05.876616Z"
    }
   },
   "cell_type": "code",
   "source": [
    "# 全文检索 message 的 content 字段，需要包含 \"abc\". 如果需要翻页，可以将next_token传给前端，以便下次进行连续翻页查询，请参考上述的 while true 示例。\n",
    "response = memory_store.search_messages(\n",
    "    metadata_filter=Filters.logical_and([Filters.eq(\"session_id\", \"1\"), Filters.text_match(\"content\", \"abc\")]),\n",
    "    limit=100,\n",
    ")\n",
    "messages, next_token = (response.hits, response.next_token)\n",
    "print(len(messages))"
   ],
   "id": "fbaca3b930b24ed0",
   "outputs": [
    {
     "name": "stdout",
     "output_type": "stream",
     "text": [
      "7\n"
     ]
    }
   ],
   "execution_count": 27
  },
  {
   "metadata": {},
   "cell_type": "markdown",
   "source": "## 3.5 批量删除 message",
   "id": "52dafaa66fea5c58"
  },
  {
   "metadata": {
    "ExecuteTime": {
     "end_time": "2025-04-17T06:05:08.910015Z",
     "start_time": "2025-04-17T06:05:08.829996Z"
    }
   },
   "cell_type": "code",
   "source": [
    "# 删除一个session的全部message\n",
    "memory_store.delete_messages(session_id=\"1\")"
   ],
   "id": "ada731170c5148d3",
   "outputs": [],
   "execution_count": 28
  },
  {
   "metadata": {
    "ExecuteTime": {
     "end_time": "2025-04-17T06:05:10.146448Z",
     "start_time": "2025-04-17T06:05:10.064729Z"
    }
   },
   "cell_type": "code",
   "source": [
    "# 删除全部session的全部message（注意：高危）\n",
    "memory_store.delete_all_messages()"
   ],
   "id": "beb6d638df1350a6",
   "outputs": [],
   "execution_count": 29
  },
  {
   "metadata": {},
   "cell_type": "markdown",
   "source": [
    "# 4. 实践\n",
    "\n",
    "按照用户和大模型交互的流程，将session和message进行实战应用。\n",
    "\n",
    "## 4.1 新用户进来"
   ],
   "id": "dbb3048d23ad7ad8"
  },
  {
   "metadata": {},
   "cell_type": "code",
   "outputs": [],
   "execution_count": null,
   "source": [
    "# 创建一个session\n",
    "session = Session(user_id=\"1\", session_id=\"session_id_1\")\n",
    "session.update_time = microseconds_timestamp()\n",
    "session.metadata[\"meta_使用哪个模型\"] = \"qwen.5\"\n",
    "memory_store.put_message(session)\n",
    "\n",
    "# 用户提问：你好，帮我讲个笑话\n",
    "message = Message(session_id=\"session_id_1\", message_id=\"message_id_1\", create_time=microseconds_timestamp())\n",
    "message.content = \"你好，帮我讲个笑话\"\n",
    "message.metadata[\"meta_访问来源\"] = \"web\"\n",
    "message.metadata[\"meta_消息分类\"] = \"用户\"\n",
    "memory_store.put_message(message)  # 记录用户消息\n",
    "session.update_time = microseconds_timestamp()\n",
    "memory_store.update_session(session)  # 记录用户消息时候，需要同时更新session信息，这里仅以更新update_time为例。\n",
    "\n",
    "# 大模型返回：小白＋小白=? 小白兔(two)\n",
    "message = Message(\n",
    "    session_id=\"session_id_1\", message_id=\"message_id_2\", create_time=microseconds_timestamp()  # 消息id改变\n",
    ")\n",
    "message.content = \"小白＋小白=? 小白兔(two)\"\n",
    "message.metadata[\"meta_消息分类\"] = \"大模型\"\n",
    "memory_store.put_message(message)  # 记录大模型消息\n",
    "\n",
    "# 用户提问：再来一个\n",
    "message = Message(\n",
    "    session_id=\"session_id_1\", message_id=\"message_id_3\", create_time=microseconds_timestamp()  # 消息id改变\n",
    ")\n",
    "message.content = \"再来一个\"\n",
    "message.metadata[\"meta_访问来源\"] = \"web\"\n",
    "message.metadata[\"meta_消息分类\"] = \"用户\"\n",
    "memory_store.put_message(message)\n",
    "session.update_time = microseconds_timestamp()\n",
    "memory_store.update_session(session)  # 记录用户消息时候，需要同时更新session信息，这里仅以更新update_time为例。\n",
    "# 查出来上下文消息，也告诉大模型，这样大模型才知道“”\n",
    "related_messages = list(memory_store.list_messages(session_id=\"session_id_1\", max_count=3))\n",
    "\n",
    "# 大模型返回：有一个躲猫猫社团，他们团长现在还没找到。\n",
    "message = Message(\n",
    "    session_id=\"session_id_1\", message_id=\"message_id_4\", create_time=microseconds_timestamp()  # 消息id改变\n",
    ")\n",
    "message.content = \"小白＋小白=? 小白兔(two)\"\n",
    "message.metadata[\"meta_消息分类\"] = \"大模型\"\n",
    "memory_store.put_message(message)  # 记录大模型消息"
   ],
   "id": "19e7dacfd920914c"
  },
  {
   "metadata": {},
   "cell_type": "markdown",
   "source": "## 4.2 老用户继续使用历史会话",
   "id": "d51497b12a24d3cc"
  },
  {
   "metadata": {},
   "cell_type": "code",
   "outputs": [],
   "execution_count": null,
   "source": [
    "# 展示出有哪些历史会话\n",
    "sessions = list(memory_store.list_recent_sessions(user_id=\"1\", max_count=5))\n",
    "\n",
    "# 用户点击某一个会话session，这时候可以查询这个session详细信息(因为list最近会话session，有可能meta不全,如有必要刻意考虑再拿一次完整信息)\n",
    "session = memory_store.get_session(user_id=\"1\", session_id=\"session_id_1\")\n",
    "\n",
    "# 查出来当前session所有消息进行展示\n",
    "all_messages = memory_store.list_messages(session_id=\"session_id_1\")\n",
    "\n",
    "# 后续继续与大模型提问交互即可"
   ],
   "id": "611693e06bd74981"
  }
 ],
 "metadata": {
  "kernelspec": {
   "display_name": "Python 3",
   "language": "python",
   "name": "python3"
  },
  "language_info": {
   "codemirror_mode": {
    "name": "ipython",
    "version": 2
   },
   "file_extension": ".py",
   "mimetype": "text/x-python",
   "name": "python",
   "nbconvert_exporter": "python",
   "pygments_lexer": "ipython2",
   "version": "2.7.6"
  }
 },
 "nbformat": 4,
 "nbformat_minor": 5
}
