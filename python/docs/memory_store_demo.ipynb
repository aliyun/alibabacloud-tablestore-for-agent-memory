{
 "cells": [
  {
   "metadata": {},
   "cell_type": "markdown",
   "source": "# Memory Store Demo",
   "id": "d2318bd61f80aac1"
  },
  {
   "metadata": {},
   "cell_type": "markdown",
   "source": "# 1. 初始化\n",
   "id": "336bfcc516a2c4f8"
  },
  {
   "metadata": {
    "ExecuteTime": {
     "end_time": "2025-04-03T08:41:52.598556Z",
     "start_time": "2025-04-03T08:41:52.593790Z"
    }
   },
   "cell_type": "code",
   "source": [
    "\n",
    "from tablestore_for_agent_memory.base.common import MetaType\n",
    "from tablestore_for_agent_memory.memory.memory_store import MemoryStore\n",
    "import os\n",
    "\n",
    "endpoint = os.getenv(\"tablestore_end_point\")\n",
    "instance_name = os.getenv(\"tablestore_instance_name\")\n",
    "access_key_id = os.getenv(\"tablestore_access_key_id\")\n",
    "access_key_secret = os.getenv(\"tablestore_access_key_secret\")\n",
    "\n",
    "# 根据 Session 的更新时间 进行 list_recent_sessions 时候，需要返回哪些字段?\n",
    "session_secondary_index_meta = {\n",
    "    \"meta_string\": MetaType.STRING,\n",
    "    \"meta_long\": MetaType.INTEGER,\n",
    "    \"meta_double\": MetaType.DOUBLE,\n",
    "    \"meta_boolean\": MetaType.BOOLEAN,\n",
    "    \"meta_bytes\": MetaType.BINARY,\n",
    "}\n",
    "\n",
    "memory_store = MemoryStore(\n",
    "    endpoint=endpoint,\n",
    "    instance_name=instance_name,\n",
    "    access_key_id=access_key_id,\n",
    "    access_key_secret=access_key_secret,\n",
    "    session_secondary_index_meta=session_secondary_index_meta,\n",
    ")"
   ],
   "id": "a04cc4bb3461d7df",
   "outputs": [],
   "execution_count": 2
  },
  {
   "metadata": {
    "ExecuteTime": {
     "end_time": "2025-04-03T08:42:00.598233Z",
     "start_time": "2025-04-03T08:41:59.322556Z"
    }
   },
   "cell_type": "code",
   "source": [
    "# 创建表，仅需执行一次\n",
    "memory_store.init_table()"
   ],
   "id": "1d23040f50e60d07",
   "outputs": [],
   "execution_count": 5
  },
  {
   "metadata": {
    "ExecuteTime": {
     "end_time": "2025-04-03T08:41:58.061216Z",
     "start_time": "2025-04-03T08:41:57.953393Z"
    }
   },
   "cell_type": "code",
   "source": [
    "# 删除表（内部接口，仅供测试使用）\n",
    "memory_store._delete_table()"
   ],
   "id": "b0c964451c48fd19",
   "outputs": [],
   "execution_count": 4
  },
  {
   "metadata": {},
   "cell_type": "markdown",
   "source": [
    "# 2. Session 会话管理\n",
    "\n",
    "一个Session属于一个User，一个User有n个Session，每个Session有n个聊天消息Message，本章节主要介绍Session的管理\n",
    "\n",
    "## 2.1 声明 Session"
   ],
   "id": "ac7fa8532175aef3"
  },
  {
   "metadata": {
    "ExecuteTime": {
     "end_time": "2025-04-03T08:46:06.421327Z",
     "start_time": "2025-04-03T08:46:06.417735Z"
    }
   },
   "cell_type": "code",
   "source": [
    "from tablestore_for_agent_memory.base.common import microseconds_timestamp\n",
    "from tablestore_for_agent_memory.base.base_memory_store import Session\n",
    "\n",
    "# 声明一个Session（user_id和session_id联合起来确认唯一一个session）,推荐使用uuid当做session_id\n",
    "session = Session(user_id=\"1\", session_id=\"2\")\n",
    "# 指定Session的更新时间(可以不写，默认是微妙时间戳)\n",
    "session.update_time = microseconds_timestamp()\n",
    "# 给这个Session附加一些meta信息,支持的类型包括以下:\n",
    "session.metadata[\"meta_string\"] = \"4\"\n",
    "session.metadata[\"meta_long\"] = 5\n",
    "session.metadata[\"meta_double\"] = 6.6\n",
    "session.metadata[\"meta_boolean\"] = True\n",
    "session.metadata[\"meta_bytes\"] = bytearray(\"China\", encoding=\"utf8\")"
   ],
   "id": "78a9e9e47e75273e",
   "outputs": [],
   "execution_count": 35
  },
  {
   "metadata": {},
   "cell_type": "markdown",
   "source": "## 2.2 创建、更新、查询、删除 Session\n",
   "id": "83e9778329996b68"
  },
  {
   "metadata": {
    "ExecuteTime": {
     "end_time": "2025-04-03T08:46:07.834019Z",
     "start_time": "2025-04-03T08:46:07.799854Z"
    }
   },
   "cell_type": "code",
   "source": [
    "# 覆盖写\n",
    "memory_store.put_session(session)\n",
    "# 查询\n",
    "session = memory_store.get_session(user_id=\"1\", session_id=\"2\")\n",
    "print(session)"
   ],
   "id": "ab3fe35b80b7c38d",
   "outputs": [
    {
     "name": "stdout",
     "output_type": "stream",
     "text": [
      "Session(user_id='1', session_id='2', update_time=1743669966419601, metadata={'meta_boolean': True, 'meta_bytes': bytearray(b'China'), 'meta_double': 6.6, 'meta_long': 5, 'meta_string': '4'})\n"
     ]
    }
   ],
   "execution_count": 36
  },
  {
   "metadata": {
    "ExecuteTime": {
     "end_time": "2025-04-03T08:46:13.169313Z",
     "start_time": "2025-04-03T08:46:13.130930Z"
    }
   },
   "cell_type": "code",
   "source": [
    "session.metadata[\"meta_string\"] = \"updated\"\n",
    "# 增量更新(不存在则创建新的，普通写入推荐使用put_session)\n",
    "memory_store.update_session(session)\n",
    "print(memory_store.get_session(user_id=\"1\", session_id=\"2\"))"
   ],
   "id": "29ccac828c84080e",
   "outputs": [
    {
     "name": "stdout",
     "output_type": "stream",
     "text": [
      "Session(user_id='1', session_id='2', update_time=1743669966419601, metadata={'meta_boolean': True, 'meta_bytes': bytearray(b'China'), 'meta_double': 6.6, 'meta_long': 5, 'meta_string': 'updated'})\n"
     ]
    }
   ],
   "execution_count": 37
  },
  {
   "metadata": {
    "ExecuteTime": {
     "end_time": "2025-04-03T08:46:15.065396Z",
     "start_time": "2025-04-03T08:46:15.038273Z"
    }
   },
   "cell_type": "code",
   "source": [
    "# 删除\n",
    "memory_store.delete_session(user_id=\"1\", session_id=\"2\")\n",
    "print(memory_store.get_session(user_id=\"1\", session_id=\"2\"))"
   ],
   "id": "f126da607b6f23db",
   "outputs": [
    {
     "name": "stdout",
     "output_type": "stream",
     "text": [
      "None\n"
     ]
    }
   ],
   "execution_count": 38
  },
  {
   "metadata": {},
   "cell_type": "markdown",
   "source": [
    "## 2.3 展示最近活跃的Session\n",
    "\n",
    "根据 session 更新时间`session.update_time` 展示最近活跃列表。\n",
    "\n",
    "### 2.3.1 写入样例数据\n",
    " "
   ],
   "id": "bb023cf50e1c70b7"
  },
  {
   "metadata": {
    "ExecuteTime": {
     "end_time": "2025-04-03T08:46:19.168625Z",
     "start_time": "2025-04-03T08:46:17.360230Z"
    }
   },
   "cell_type": "code",
   "source": [
    "from faker import Faker\n",
    "import random\n",
    "\n",
    "fk_data = Faker(locale=\"zh_CN\")\n",
    "\n",
    "\n",
    "def random_session(user_id=fk_data.user_name()) -> Session:\n",
    "    session = Session(user_id=user_id, session_id=fk_data.uuid4())\n",
    "    session.metadata[\"meta_string\"] = fk_data.name()\n",
    "    session.metadata[\"meta_long\"] = random.randint(0, 9999999999999)\n",
    "    session.metadata[\"meta_double\"] = random.uniform(0.0, 1.0)\n",
    "    session.metadata[\"meta_boolean\"] = random.choice([True, False])\n",
    "    session.metadata[\"meta_bytes\"] = bytearray(fk_data.name(), encoding=\"utf8\")\n",
    "    return session\n",
    "\n",
    "\n",
    "total_count = 100\n",
    "for i in range(total_count):\n",
    "    user_id = random.choice([\"1\", \"2\"])\n",
    "    session = random_session(user_id=user_id)\n",
    "    session.update_time = random.randint(1, 100)\n",
    "    memory_store.put_session(session)"
   ],
   "id": "873c02f6ba8fa12f",
   "outputs": [],
   "execution_count": 39
  },
  {
   "metadata": {},
   "cell_type": "markdown",
   "source": "### 2.3.2 展示某一个用户最近的活跃会话列表\n",
   "id": "2f72a842803ce3ed"
  },
  {
   "metadata": {
    "ExecuteTime": {
     "end_time": "2025-04-03T08:46:20.783235Z",
     "start_time": "2025-04-03T08:46:20.751046Z"
    }
   },
   "cell_type": "code",
   "source": [
    "# 接口返回 iterator 迭代器\n",
    "iterator = memory_store.list_recent_sessions(user_id=\"1\")\n",
    "for session in iterator:\n",
    "    print(session)"
   ],
   "id": "786261cf69fd1fb4",
   "outputs": [
    {
     "name": "stdout",
     "output_type": "stream",
     "text": [
      "Session(user_id='1', session_id='推荐使用uuid当做session_id', update_time=1743669948613935, metadata={'meta_boolean': True, 'meta_bytes': bytearray(b'China'), 'meta_double': 6.6, 'meta_long': 5, 'meta_string': '4'})\n",
      "Session(user_id='1', session_id='5ac16f06-2401-4666-ba7a-70ba8224c68e', update_time=99, metadata={'meta_boolean': False, 'meta_bytes': bytearray(b'\\xe5\\xbe\\x90\\xe7\\xa7\\x80\\xe8\\x8d\\xa3'), 'meta_double': 0.9393316965655581, 'meta_long': 3741995364619, 'meta_string': '方雷'})\n",
      "Session(user_id='1', session_id='bf449062-4bab-4282-a492-3ed79e93cdca', update_time=96, metadata={'meta_boolean': False, 'meta_bytes': bytearray(b'\\xe7\\xa8\\x8b\\xe5\\xbd\\xac'), 'meta_double': 0.9917839876741434, 'meta_long': 5058771419374, 'meta_string': '宋建'})\n",
      "Session(user_id='1', session_id='b66197b0-a942-4311-8e98-93a1b103f613', update_time=95, metadata={'meta_boolean': True, 'meta_bytes': bytearray(b'\\xe6\\x9f\\xaf\\xe7\\xa7\\x80\\xe5\\x85\\xb0'), 'meta_double': 0.40591860798588697, 'meta_long': 613451448049, 'meta_string': '金秀华'})\n",
      "Session(user_id='1', session_id='18400768-16b1-4ee4-8f2a-55bca493c4ce', update_time=94, metadata={'meta_boolean': True, 'meta_bytes': bytearray(b'\\xe8\\xae\\xb8\\xe5\\x8d\\x9a'), 'meta_double': 0.721473153831262, 'meta_long': 9054058223352, 'meta_string': '王阳'})\n",
      "Session(user_id='1', session_id='d2696da4-30cd-4d20-9d4a-47fdc4af1c95', update_time=93, metadata={'meta_boolean': False, 'meta_bytes': bytearray(b'\\xe6\\x9d\\x8e\\xe6\\xb7\\x91\\xe5\\x8d\\x8e'), 'meta_double': 0.7485517977124119, 'meta_long': 8507517491933, 'meta_string': '莫琴'})\n",
      "Session(user_id='1', session_id='aa481386-21b6-4ca4-93b7-5e89bdbcdac2', update_time=92, metadata={'meta_boolean': False, 'meta_bytes': bytearray(b'\\xe5\\x88\\x98\\xe6\\x88\\x90'), 'meta_double': 0.5195209396521803, 'meta_long': 1265992109016, 'meta_string': '许桂兰'})\n",
      "Session(user_id='1', session_id='504e849f-8dfd-42e9-80f8-cdc9aa9dab21', update_time=90, metadata={'meta_boolean': True, 'meta_bytes': bytearray(b'\\xe6\\x9d\\xa8\\xe5\\xae\\x87'), 'meta_double': 0.03683748977626655, 'meta_long': 2407445051677, 'meta_string': '张建平'})\n",
      "Session(user_id='1', session_id='a4665f6a-b2db-44f6-8f61-72f921ece751', update_time=89, metadata={'meta_boolean': True, 'meta_bytes': bytearray(b'\\xe8\\x8b\\x8f\\xe5\\xb2\\xa9'), 'meta_double': 0.4047311518250013, 'meta_long': 6038135099461, 'meta_string': '萧楠'})\n",
      "Session(user_id='1', session_id='9d235447-642e-4e5d-9dd1-7b50c7f2169a', update_time=89, metadata={'meta_boolean': False, 'meta_bytes': bytearray(b'\\xe9\\xab\\x98\\xe6\\x9d\\xa8'), 'meta_double': 0.692449707485384, 'meta_long': 8121527387914, 'meta_string': '高明'})\n",
      "Session(user_id='1', session_id='dcc285a2-64fc-4a88-9e54-ac05a47ac195', update_time=87, metadata={'meta_boolean': True, 'meta_bytes': bytearray(b'\\xe7\\x8e\\x8b\\xe6\\xb4\\x81'), 'meta_double': 0.2919609757678411, 'meta_long': 991559637703, 'meta_string': '石秀云'})\n",
      "Session(user_id='1', session_id='45c0a4ef-6f6b-47cb-a575-fd5fb9b04522', update_time=87, metadata={'meta_boolean': True, 'meta_bytes': bytearray(b'\\xe9\\xab\\x98\\xe6\\xa1\\x82\\xe9\\xa6\\x99'), 'meta_double': 0.5483208428754475, 'meta_long': 359075753125, 'meta_string': '王建华'})\n",
      "Session(user_id='1', session_id='17c70477-f0ff-4370-bd08-33f45a6a87dd', update_time=86, metadata={'meta_boolean': False, 'meta_bytes': bytearray(b'\\xe5\\xbc\\xa0\\xe5\\x8d\\x9a'), 'meta_double': 0.07580799193172716, 'meta_long': 1632652467508, 'meta_string': '吴志强'})\n",
      "Session(user_id='1', session_id='5d3b2793-78dd-4575-9bb0-aa7bcb60812e', update_time=85, metadata={'meta_boolean': True, 'meta_bytes': bytearray(b'\\xe9\\x9f\\xa9\\xe6\\x96\\x8c'), 'meta_double': 0.9955162152991363, 'meta_long': 3563131176052, 'meta_string': '杜凤英'})\n",
      "Session(user_id='1', session_id='3fd12b39-3ca2-42d7-9aca-80727f3deb30', update_time=85, metadata={'meta_boolean': True, 'meta_bytes': bytearray(b'\\xe7\\x94\\xb0\\xe7\\xba\\xa2\\xe9\\x9c\\x9e'), 'meta_double': 0.3480146372303601, 'meta_long': 7056725350396, 'meta_string': '徐秀华'})\n",
      "Session(user_id='1', session_id='f32a0fc1-d0c0-4f5f-b561-757b375903b2', update_time=79, metadata={'meta_boolean': False, 'meta_bytes': bytearray(b'\\xe5\\xbe\\x90\\xe8\\x8d\\xa3'), 'meta_double': 0.4232432040115979, 'meta_long': 9196388767031, 'meta_string': '王明'})\n",
      "Session(user_id='1', session_id='97c922bd-fdbc-40d3-8aa8-0e9f644d26eb', update_time=79, metadata={'meta_boolean': False, 'meta_bytes': bytearray(b'\\xe6\\x9d\\x8e\\xe6\\x9e\\x97'), 'meta_double': 0.3041065251764309, 'meta_long': 8595795651776, 'meta_string': '史娜'})\n",
      "Session(user_id='1', session_id='a84a8b4b-1c4f-4a76-8199-4edb9e75f300', update_time=77, metadata={'meta_boolean': True, 'meta_bytes': bytearray(b'\\xe4\\xbd\\x95\\xe7\\x90\\xb3'), 'meta_double': 0.946900045752667, 'meta_long': 462669612589, 'meta_string': '何健'})\n",
      "Session(user_id='1', session_id='6652056e-84ba-44f0-a275-eae95651543a', update_time=77, metadata={'meta_boolean': False, 'meta_bytes': bytearray(b'\\xe8\\xb0\\xa2\\xe9\\x9b\\xaa\\xe6\\xa2\\x85'), 'meta_double': 0.4907561000171272, 'meta_long': 4640494396032, 'meta_string': '陶婷'})\n",
      "Session(user_id='1', session_id='227c2047-b05d-4e5f-b329-31f5973b3aae', update_time=76, metadata={'meta_boolean': False, 'meta_bytes': bytearray(b'\\xe5\\x86\\xaf\\xe9\\x9b\\xb7'), 'meta_double': 0.4639063272699647, 'meta_long': 8073508053687, 'meta_string': '周斌'})\n",
      "Session(user_id='1', session_id='ce2ffa82-90c0-4963-ab13-68b3f71811b4', update_time=74, metadata={'meta_boolean': False, 'meta_bytes': bytearray(b'\\xe6\\xb8\\xa9\\xe7\\xba\\xa2\\xe6\\xa2\\x85'), 'meta_double': 0.9338615480184298, 'meta_long': 4806141955401, 'meta_string': '周海燕'})\n",
      "Session(user_id='1', session_id='3c3fc8e0-c0cd-43e2-893e-86cf0aa2f884', update_time=72, metadata={'meta_boolean': False, 'meta_bytes': bytearray(b'\\xe9\\xab\\x98\\xe6\\xb7\\x91\\xe7\\x8f\\x8d'), 'meta_double': 0.2964847551390867, 'meta_long': 421669358320, 'meta_string': '樊金凤'})\n",
      "Session(user_id='1', session_id='e02de362-7349-41fc-8e44-ef897b9d5c4d', update_time=71, metadata={'meta_boolean': False, 'meta_bytes': bytearray(b'\\xe5\\x88\\x98\\xe5\\xb8\\x86'), 'meta_double': 0.6734437628932028, 'meta_long': 6920202467110, 'meta_string': '施宇'})\n",
      "Session(user_id='1', session_id='56110be1-2ca0-4ed2-9640-06d8e1e64896', update_time=70, metadata={'meta_boolean': True, 'meta_bytes': bytearray(b'\\xe5\\x8d\\xa2\\xe6\\xb3\\xa2'), 'meta_double': 0.10977411007545235, 'meta_long': 8242516910687, 'meta_string': '刘金凤'})\n",
      "Session(user_id='1', session_id='4fcce6b8-96fb-4fe8-a61c-6b603bf9f9a1', update_time=69, metadata={'meta_boolean': True, 'meta_bytes': bytearray(b'\\xe9\\xad\\x8f\\xe4\\xbf\\x8a'), 'meta_double': 0.5269546413347688, 'meta_long': 6797160364616, 'meta_string': '何丹丹'})\n",
      "Session(user_id='1', session_id='8e22c277-7eb7-4df5-9064-f950b5c77703', update_time=51, metadata={'meta_boolean': True, 'meta_bytes': bytearray(b'\\xe9\\x9f\\xa9\\xe5\\x87\\xa4\\xe8\\x8b\\xb1'), 'meta_double': 0.5466704867660516, 'meta_long': 6741261576296, 'meta_string': '罗斌'})\n",
      "Session(user_id='1', session_id='2456ca00-fc2f-4f92-8062-199536defedb', update_time=51, metadata={'meta_boolean': True, 'meta_bytes': bytearray(b'\\xe6\\x9d\\x8e\\xe7\\x90\\xb4'), 'meta_double': 0.4691333242250971, 'meta_long': 9700222194883, 'meta_string': '陈娟'})\n",
      "Session(user_id='1', session_id='20dbd105-a9a7-471a-bf26-b996334ed508', update_time=51, metadata={'meta_boolean': True, 'meta_bytes': bytearray(b'\\xe9\\xbb\\x84\\xe5\\xb2\\xa9'), 'meta_double': 0.2838649034943044, 'meta_long': 8667675081475, 'meta_string': '谷想'})\n",
      "Session(user_id='1', session_id='8bb4f29a-c21a-497a-b445-df79cca93f88', update_time=50, metadata={'meta_boolean': False, 'meta_bytes': bytearray(b'\\xe8\\x8c\\xb9\\xe8\\xb6\\x85'), 'meta_double': 0.6222263117800174, 'meta_long': 9592876553342, 'meta_string': '蓝丽丽'})\n",
      "Session(user_id='1', session_id='eeb6bc50-29f2-4572-a6e1-f88abf6a08f6', update_time=44, metadata={'meta_boolean': False, 'meta_bytes': bytearray(b'\\xe5\\x88\\x98\\xe8\\x8a\\xb3'), 'meta_double': 0.2031110658360007, 'meta_long': 491265156945, 'meta_string': '孟峰'})\n",
      "Session(user_id='1', session_id='e8af3b03-f679-4c92-aef3-ed8e917e4ea3', update_time=43, metadata={'meta_boolean': True, 'meta_bytes': bytearray(b'\\xe9\\xbb\\x84\\xe9\\x9d\\x99'), 'meta_double': 0.34826283729044794, 'meta_long': 7337276752996, 'meta_string': '赵凯'})\n",
      "Session(user_id='1', session_id='d8bcb896-8194-4b05-a449-bdef6c032082', update_time=37, metadata={'meta_boolean': True, 'meta_bytes': bytearray(b'\\xe6\\x9d\\x8e\\xe7\\xa7\\x80\\xe5\\x85\\xb0'), 'meta_double': 0.7884684708637434, 'meta_long': 3867169239276, 'meta_string': '胡荣'})\n",
      "Session(user_id='1', session_id='4adc593f-bc52-4770-a009-9cec4f8c2f79', update_time=34, metadata={'meta_boolean': True, 'meta_bytes': bytearray(b'\\xe6\\x9d\\xa8\\xe5\\xb8\\x85'), 'meta_double': 0.2405514348258353, 'meta_long': 9771945080272, 'meta_string': '陈伟'})\n",
      "Session(user_id='1', session_id='2dda91ef-e226-4840-b716-b223c70c605b', update_time=34, metadata={'meta_boolean': True, 'meta_bytes': bytearray(b'\\xe8\\xb5\\xb5\\xe5\\x88\\xa9'), 'meta_double': 0.2902777520697599, 'meta_long': 877806081534, 'meta_string': '陈瑜'})\n",
      "Session(user_id='1', session_id='d6755a06-12ae-49dc-81c2-495eba52b815', update_time=32, metadata={'meta_boolean': False, 'meta_bytes': bytearray(b'\\xe5\\xb0\\x9a\\xe6\\xa5\\xa0'), 'meta_double': 0.3887635114558744, 'meta_long': 3420591074589, 'meta_string': '宫波'})\n",
      "Session(user_id='1', session_id='175b7b17-6cab-4880-8c68-f8fe45984c98', update_time=28, metadata={'meta_boolean': False, 'meta_bytes': bytearray(b'\\xe6\\xad\\xa6\\xe6\\xb7\\x91\\xe5\\x8d\\x8e'), 'meta_double': 0.17003038750331512, 'meta_long': 8132943172921, 'meta_string': '罗雪'})\n",
      "Session(user_id='1', session_id='d542524b-c806-4814-b158-c986c63b272b', update_time=26, metadata={'meta_boolean': False, 'meta_bytes': bytearray(b'\\xe5\\xbe\\x90\\xe7\\x8e\\x89\\xe5\\x8d\\x8e'), 'meta_double': 0.29068252127515204, 'meta_long': 4916894345296, 'meta_string': '曾华'})\n",
      "Session(user_id='1', session_id='7d42ae22-c4ce-4037-a4db-76c0beb43db7', update_time=23, metadata={'meta_boolean': False, 'meta_bytes': bytearray(b'\\xe9\\xa5\\xb6\\xe5\\xbb\\xba\\xe5\\x9b\\xbd'), 'meta_double': 0.6170925971993523, 'meta_long': 3666418314280, 'meta_string': '陈淑英'})\n",
      "Session(user_id='1', session_id='ac3bf6c9-1f71-4327-96b3-30a454809845', update_time=20, metadata={'meta_boolean': True, 'meta_bytes': bytearray(b'\\xe6\\xa2\\x81\\xe9\\xa3\\x9e'), 'meta_double': 0.06783221370782033, 'meta_long': 7207206622661, 'meta_string': '焦斌'})\n",
      "Session(user_id='1', session_id='dd1df748-2e33-44fc-89ad-a060ebc37983', update_time=15, metadata={'meta_boolean': True, 'meta_bytes': bytearray(b'\\xe5\\xb2\\x91\\xe6\\xb5\\xa9'), 'meta_double': 0.027934085303770506, 'meta_long': 1156389822047, 'meta_string': '荣鑫'})\n",
      "Session(user_id='1', session_id='55e463f3-aabb-44c9-9a5e-b4796c633277', update_time=15, metadata={'meta_boolean': True, 'meta_bytes': bytearray(b'\\xe8\\xb0\\xa2\\xe7\\xa7\\x80\\xe7\\x8f\\x8d'), 'meta_double': 0.3175760955357483, 'meta_long': 1832890204837, 'meta_string': '熊勇'})\n",
      "Session(user_id='1', session_id='1803d120-e338-490f-8b2e-75adc75d550c', update_time=15, metadata={'meta_boolean': True, 'meta_bytes': bytearray(b'\\xe5\\xbc\\xa0\\xe5\\xb9\\xb3'), 'meta_double': 0.15811914909703872, 'meta_long': 1962846279846, 'meta_string': '赵利'})\n",
      "Session(user_id='1', session_id='46b593fa-acf4-4803-b9c2-426e80f9cb7e', update_time=12, metadata={'meta_boolean': False, 'meta_bytes': bytearray(b'\\xe7\\xa5\\x9d\\xe9\\x9d\\x99'), 'meta_double': 0.015097578586171778, 'meta_long': 7598872959618, 'meta_string': '张波'})\n",
      "Session(user_id='1', session_id='32e759c3-b05e-432b-8937-d07df23499bc', update_time=9, metadata={'meta_boolean': True, 'meta_bytes': bytearray(b'\\xe6\\x9b\\xb9\\xe5\\xb2\\xa9'), 'meta_double': 0.14645876030508165, 'meta_long': 4295530921310, 'meta_string': '谭建平'})\n",
      "Session(user_id='1', session_id='2a4f8d5a-4dc7-487e-bb92-787da12a4096', update_time=6, metadata={'meta_boolean': True, 'meta_bytes': bytearray(b'\\xe6\\x9d\\x8e\\xe6\\x9d\\xb0'), 'meta_double': 0.38083500949362115, 'meta_long': 567060145708, 'meta_string': '张军'})\n"
     ]
    }
   ],
   "execution_count": 40
  },
  {
   "metadata": {
    "ExecuteTime": {
     "end_time": "2025-04-03T08:47:04.857382Z",
     "start_time": "2025-04-03T08:47:04.654808Z"
    }
   },
   "cell_type": "code",
   "source": [
    "\n",
    "# 将 iterator 迭代器转成list使用\n",
    "sessions = list(memory_store.list_recent_sessions(user_id=\"1\"))\n",
    "print(len(sessions))\n",
    "\n",
    "# 仅获取其前 5 个值。推荐使用该方法，因为用户量大了，列出所有session会越来越慢，因此仅需列出其最活跃的即可。\n",
    "sessions = list(memory_store.list_recent_sessions(user_id=\"1\", max_count=5))\n",
    "print(len(sessions))\n",
    "\n",
    "# 获取前 5 个\n",
    "sessions = list(memory_store.list_recent_sessions(user_id=\"1\", max_count=5))\n",
    "print(len(sessions))"
   ],
   "id": "c19d6746450b50df",
   "outputs": [
    {
     "name": "stdout",
     "output_type": "stream",
     "text": [
      "45\n",
      "5\n",
      "5\n"
     ]
    }
   ],
   "execution_count": 41
  },
  {
   "metadata": {},
   "cell_type": "markdown",
   "source": "### 2.3.3 根据 metadata 进行 filter",
   "id": "bbbdbbca77a1cbe7"
  },
  {
   "metadata": {
    "ExecuteTime": {
     "end_time": "2025-04-03T08:47:11.830424Z",
     "start_time": "2025-04-03T08:47:11.808040Z"
    }
   },
   "cell_type": "code",
   "source": [
    "from tablestore_for_agent_memory.base.filter import Filters\n",
    "\n",
    "# 使用 单个 Filter 进行过滤\n",
    "sessions = list(memory_store.list_recent_sessions(user_id=\"1\", metadata_filter=Filters.eq(\"meta_boolean\", True)))\n",
    "print(len(sessions))"
   ],
   "id": "a7e6f039fc27ef2e",
   "outputs": [
    {
     "name": "stdout",
     "output_type": "stream",
     "text": [
      "25\n"
     ]
    }
   ],
   "execution_count": 42
  },
  {
   "metadata": {
    "ExecuteTime": {
     "end_time": "2025-04-03T08:47:15.355082Z",
     "start_time": "2025-04-03T08:47:15.341433Z"
    }
   },
   "cell_type": "code",
   "source": [
    "from tablestore_for_agent_memory.base.filter import Filters\n",
    "\n",
    "# 使用 多个 Filter 进行过滤\n",
    "sessions = list(\n",
    "    memory_store.list_recent_sessions(\n",
    "        user_id=\"1\",\n",
    "        metadata_filter=Filters.logical_and([\n",
    "            Filters.gt(\"meta_double\", 0.5),\n",
    "            Filters.eq(\"meta_boolean\", True)\n",
    "        ]),\n",
    "    )\n",
    ")\n",
    "print(len(sessions))"
   ],
   "id": "21273da7b141ce38",
   "outputs": [
    {
     "name": "stdout",
     "output_type": "stream",
     "text": [
      "8\n"
     ]
    }
   ],
   "execution_count": 43
  },
  {
   "metadata": {},
   "cell_type": "markdown",
   "source": "### 2.3.4 设置查询Session的截止时间",
   "id": "a38857b1bfd5f17f"
  },
  {
   "metadata": {
    "ExecuteTime": {
     "end_time": "2025-04-03T08:47:19.431577Z",
     "start_time": "2025-04-03T08:47:19.414069Z"
    }
   },
   "cell_type": "code",
   "source": [
    "sessions = list(\n",
    "    memory_store.list_recent_sessions(\n",
    "        user_id=\"1\",\n",
    "        inclusive_end_update_time=50,\n",
    "        metadata_filter=Filters.eq(\"meta_boolean\", True),\n",
    "    )\n",
    ")\n",
    "print(len(sessions))\n",
    "print([item.update_time for item in sessions])"
   ],
   "id": "87eb55a4462608d7",
   "outputs": [
    {
     "name": "stdout",
     "output_type": "stream",
     "text": [
      "15\n",
      "[1743669948613935, 95, 94, 90, 89, 87, 87, 85, 85, 77, 70, 69, 51, 51, 51]\n"
     ]
    }
   ],
   "execution_count": 44
  },
  {
   "metadata": {},
   "cell_type": "markdown",
   "source": "## 2.4 其它不常用接口\n",
   "id": "11ee2084b00f1f69"
  },
  {
   "metadata": {
    "ExecuteTime": {
     "end_time": "2025-04-03T07:51:42.412975Z",
     "start_time": "2025-04-03T07:51:42.244967Z"
    }
   },
   "cell_type": "code",
   "source": [
    "# 所有用户的所有session（注意，量可能较大，请使用迭代器访问，不要放到一个list里）\n",
    "iterator = memory_store.list_all_sessions()\n",
    "for session in iterator:\n",
    "    pass"
   ],
   "id": "d1733dc0c54a467",
   "outputs": [],
   "execution_count": 51
  },
  {
   "metadata": {},
   "cell_type": "code",
   "outputs": [],
   "execution_count": null,
   "source": [
    "# 删除用户的所有session（注意：高危）\n",
    "memory_store.delete_all_sessions()"
   ],
   "id": "508b3a6c6c7c873c"
  },
  {
   "metadata": {},
   "cell_type": "markdown",
   "source": [
    "# 3. Message 聊天消息\n",
    "\n",
    "一个Session有n个聊天消息Message，本章节主要介绍Message的使用。\n",
    "\n",
    "## 3.1 声明 Message\n"
   ],
   "id": "ea00c3f3f17fcfcc"
  },
  {
   "metadata": {
    "ExecuteTime": {
     "end_time": "2025-04-03T08:47:44.520118Z",
     "start_time": "2025-04-03T08:47:44.515380Z"
    }
   },
   "cell_type": "code",
   "source": [
    "from tablestore_for_agent_memory.base.base_memory_store import Message\n",
    "\n",
    "# 创建一条message（session_id 和 message_id 联合起来确认唯一一行数据）\n",
    "message = Message(\n",
    "    session_id=\"推荐uuid当做session_id\",\n",
    "    message_id=\"可以使用uuid或其他业务string当做message_id\",\n",
    "    create_time=random.randint(0, 999999999)  # create_time 不可变，用来确认这条消息在一个会话(session)里的位置信息(或者叫排序信息)\n",
    ")\n",
    "\n",
    "message.content = fk_data.text(20)\n",
    "message.metadata[\"meta_string\"] = fk_data.name_male()\n",
    "message.metadata[\"meta_long\"] = random.randint(0, 999999999)\n",
    "message.metadata[\"meta_double\"] = random.uniform(1.0, 2.0)\n",
    "message.metadata[\"meta_boolean\"] = random.choice([True, False])\n",
    "message.metadata[\"meta_bytes\"] = bytearray(fk_data.city_name(), encoding=\"utf8\")"
   ],
   "id": "507e048477c35bbf",
   "outputs": [],
   "execution_count": 45
  },
  {
   "metadata": {},
   "cell_type": "markdown",
   "source": "## 3.2 写入、查询、更新、删除一条聊天记录",
   "id": "a41690a44e24d26c"
  },
  {
   "metadata": {
    "ExecuteTime": {
     "end_time": "2025-04-03T08:47:47.906846Z",
     "start_time": "2025-04-03T08:47:47.760708Z"
    }
   },
   "cell_type": "code",
   "source": [
    "# 写入\n",
    "memory_store.put_message(message)\n",
    "\n",
    "# 查询 (不指定create_time)\n",
    "message_read = memory_store.get_message(session_id=message.session_id, message_id=message.message_id)\n",
    "print(message_read)\n",
    "\n",
    "# 查询 (指定create_time，性能更好，查单条message场景的QPS较高的用户可以传。因该领域大多数业务查询单条聊天消息的场景或qps很少，所以不带也没关系，大多数用户的场景是list出来一批最近的聊天消息，而不是查询单条)\n",
    "message_read = memory_store.get_message(session_id=message.session_id, message_id=message.message_id, create_time=message.create_time)\n",
    "print(message_read)\n",
    "\n",
    "# 更新\n",
    "message.content = \"update to: 123\"\n",
    "memory_store.update_message(message)\n",
    "message_read_after_update = memory_store.get_message(session_id=message.session_id, message_id=message.message_id, create_time=message.create_time)\n",
    "print(message_read_after_update)\n",
    "\n",
    "# 删除 (不指定create_time)\n",
    "memory_store.delete_message(session_id=message.session_id, message_id=message.message_id)\n",
    "# 删除（(指定create_time，性能更好，原因参考上述查询接口描述）\n",
    "memory_store.delete_message(session_id=message.session_id, message_id=message.message_id, create_time=message.create_time)\n",
    "# 删除后查询不到\n",
    "print(memory_store.get_message(session_id=message.session_id, message_id=message.message_id))\n",
    "\n"
   ],
   "id": "6c4165a212218ae4",
   "outputs": [
    {
     "name": "stdout",
     "output_type": "stream",
     "text": [
      "Message(session_id='推荐uuid当做session_id', message_id='可以使用uuid或其他业务string当做message_id', create_time=204946059, content='最大朋友文章文件具有部门政府学生问题.', metadata={'meta_boolean': True, 'meta_bytes': bytearray(b'\\xe6\\x98\\x86\\xe6\\x98\\x8e'), 'meta_double': 1.9910773903013648, 'meta_long': 673673892, 'meta_string': '王帆'})\n",
      "Message(session_id='推荐uuid当做session_id', message_id='可以使用uuid或其他业务string当做message_id', create_time=204946059, content='最大朋友文章文件具有部门政府学生问题.', metadata={'meta_boolean': True, 'meta_bytes': bytearray(b'\\xe6\\x98\\x86\\xe6\\x98\\x8e'), 'meta_double': 1.9910773903013648, 'meta_long': 673673892, 'meta_string': '王帆'})\n",
      "Message(session_id='推荐uuid当做session_id', message_id='可以使用uuid或其他业务string当做message_id', create_time=204946059, content='update to: 123', metadata={'meta_boolean': True, 'meta_bytes': bytearray(b'\\xe6\\x98\\x86\\xe6\\x98\\x8e'), 'meta_double': 1.9910773903013648, 'meta_long': 673673892, 'meta_string': '王帆'})\n",
      "None\n"
     ]
    }
   ],
   "execution_count": 46
  },
  {
   "metadata": {},
   "cell_type": "markdown",
   "source": [
    "## 3.3 获取某一个session会话的聊天消息\n",
    "\n",
    "### 3.3.1 写入样例数据"
   ],
   "id": "89b4b58579edbd26"
  },
  {
   "metadata": {
    "ExecuteTime": {
     "end_time": "2025-04-03T08:47:52.955265Z",
     "start_time": "2025-04-03T08:47:52.361999Z"
    }
   },
   "cell_type": "code",
   "source": [
    "from faker import Faker\n",
    "import random\n",
    "\n",
    "fk_data = Faker(locale=\"zh_CN\")\n",
    "\n",
    "\n",
    "def random_message(session_id=fk_data.user_name()) -> Message:\n",
    "    message = Message(session_id=session_id, message_id=fk_data.uuid4())\n",
    "    message.create_time = random.randint(0, 999999999)\n",
    "    if random.choice([True, False]):\n",
    "        message.content = fk_data.text(20)\n",
    "    message.metadata[\"meta_string\"] = fk_data.name_male()\n",
    "    message.metadata[\"meta_long\"] = random.randint(0, 999999999)\n",
    "    message.metadata[\"meta_double\"] = random.uniform(1.0, 2.0)\n",
    "    message.metadata[\"meta_boolean\"] = random.choice([True, False])\n",
    "    message.metadata[\"meta_bytes\"] = bytearray(fk_data.city_name(), encoding=\"utf8\")\n",
    "    return message\n",
    "\n",
    "\n",
    "total_count = 50\n",
    "for i in range(total_count):\n",
    "    session_id = random.choice([\"1\", \"2\"])\n",
    "    message = random_message(session_id=session_id)\n",
    "    message.create_time = random.randint(1, 100)\n",
    "    memory_store.put_message(message)"
   ],
   "id": "74afbb3a789a8b67",
   "outputs": [],
   "execution_count": 47
  },
  {
   "metadata": {},
   "cell_type": "markdown",
   "source": [
    "\n",
    "### 3.3.2 获取所有消息\n",
    "根据业务方的经验，在大模型聊天场景下，越早的消息其实不太需要的，仅需要最近的个别几条即可，因此更推荐下一小章节的“获取最近的部分消息”。"
   ],
   "id": "36740d0e5ec22a5f"
  },
  {
   "metadata": {
    "ExecuteTime": {
     "end_time": "2025-04-03T08:47:56.776077Z",
     "start_time": "2025-04-03T08:47:56.757312Z"
    }
   },
   "cell_type": "code",
   "source": [
    "# 获取某一个session_id的全部聊天消息（默认根据 create_time 从最新到旧排序，接口返回 iterator 迭代器）\n",
    "iterator = memory_store.get_messages(session_id=\"1\")\n",
    "# 将 iterator 迭代器 转为list使用\n",
    "messages = list(iterator)\n",
    "print(len(messages))"
   ],
   "id": "f31b1c546ec337b3",
   "outputs": [
    {
     "name": "stdout",
     "output_type": "stream",
     "text": [
      "25\n"
     ]
    }
   ],
   "execution_count": 48
  },
  {
   "metadata": {
    "ExecuteTime": {
     "end_time": "2025-04-03T08:48:01.497143Z",
     "start_time": "2025-04-03T08:48:01.481002Z"
    }
   },
   "cell_type": "code",
   "source": [
    "# 根据 metadata Filter 获取某一个session的全部数据\n",
    "messages = list(\n",
    "    memory_store.get_messages(\n",
    "        session_id=\"1\",\n",
    "        metadata_filter=Filters.logical_and([Filters.gt(\"meta_double\", 0.5), Filters.eq(\"meta_boolean\", True)]),\n",
    "    )\n",
    ")\n",
    "print(len(messages))"
   ],
   "id": "d5525386ce116fc2",
   "outputs": [
    {
     "name": "stdout",
     "output_type": "stream",
     "text": [
      "12\n"
     ]
    }
   ],
   "execution_count": 49
  },
  {
   "metadata": {
    "ExecuteTime": {
     "end_time": "2025-04-03T08:48:06.110556Z",
     "start_time": "2025-04-03T08:48:06.086791Z"
    }
   },
   "cell_type": "code",
   "source": [
    "# 所有session的所有message（注意，量可能较大，请使用迭代器访问，不要放到一个list里）\n",
    "iterator = memory_store.get_all_messages()"
   ],
   "id": "f46d9ec7c468f174",
   "outputs": [],
   "execution_count": 50
  },
  {
   "metadata": {},
   "cell_type": "markdown",
   "source": [
    "### 3.3.3 获取最近的部分消息\n",
    "#### 3.3.3.1 获取最近的 3 条消息"
   ],
   "id": "bbf5f883a7875d6f"
  },
  {
   "metadata": {
    "ExecuteTime": {
     "end_time": "2025-04-03T08:48:56.603784Z",
     "start_time": "2025-04-03T08:48:56.371615Z"
    }
   },
   "cell_type": "code",
   "source": [
    "\n",
    "iterator = memory_store.get_messages(session_id=\"1\", max_count=3)\n",
    "messages = list(iterator)\n",
    "print(len(messages))\n",
    "\n",
    "# 根据 metadata 过滤，返回最近的3条消息\n",
    "messages = list(memory_store.get_messages(session_id=\"1\", metadata_filter=Filters.eq(\"meta_boolean\", True), max_count=3))\n",
    "print(len(messages))"
   ],
   "id": "fb9c84fd36907a0a",
   "outputs": [
    {
     "name": "stdout",
     "output_type": "stream",
     "text": [
      "3\n",
      "3\n"
     ]
    }
   ],
   "execution_count": 51
  },
  {
   "metadata": {},
   "cell_type": "markdown",
   "source": [
    "\n",
    "#### 3.3.3.2 按照时间获取\n"
   ],
   "id": "bcb1ad6d1dd7efd3"
  },
  {
   "metadata": {
    "ExecuteTime": {
     "end_time": "2025-04-03T08:49:05.172797Z",
     "start_time": "2025-04-03T08:49:05.130470Z"
    }
   },
   "cell_type": "code",
   "source": [
    "\n",
    "from tablestore_for_agent_memory.base.common import Order\n",
    "\n",
    "# 获取 session_id=“1” 且创建时间在10~50范围内的数据，排序方式为正序(create_time 从最旧到新)\n",
    "messages = list(\n",
    "    memory_store.get_messages(\n",
    "        session_id=\"1\",\n",
    "        inclusive_start_create_time=10,\n",
    "        inclusive_end_create_time=50,\n",
    "        order=Order.ASC,\n",
    "    )\n",
    ")\n",
    "print(len(messages))\n",
    "\n",
    "# 获取 session_id=“1” 且创建时间在10~80范围内的数据，排序方式为逆序(create_time 从最新到旧)，因此起始时间是80，结束时间是10.\n",
    "messages = list(\n",
    "    memory_store.get_messages(\n",
    "        session_id=\"1\",\n",
    "        inclusive_start_create_time=80,\n",
    "        inclusive_end_create_time=10,\n",
    "        order=Order.DESC,\n",
    "    )\n",
    ")\n",
    "print(len(messages))\n",
    "\n",
    "# 获取 session_id=“1” 且创建时间在10~80范围内的数据，排序方式为逆序(create_time 从最新到旧),同时指定 metadata filter\n",
    "messages = list(\n",
    "    memory_store.get_messages(\n",
    "        session_id=\"1\",\n",
    "        inclusive_start_create_time=80,\n",
    "        inclusive_end_create_time=10,\n",
    "        order=Order.DESC,\n",
    "        metadata_filter=Filters.logical_and([Filters.gt(\"meta_double\", 0.5), Filters.eq(\"meta_boolean\", True)]),\n",
    "    )\n",
    ")\n",
    "print(len(messages))"
   ],
   "id": "ab0e3a086c7d9d33",
   "outputs": [
    {
     "name": "stdout",
     "output_type": "stream",
     "text": [
      "9\n",
      "20\n",
      "9\n"
     ]
    }
   ],
   "execution_count": 52
  },
  {
   "metadata": {},
   "cell_type": "markdown",
   "source": "## 3.4 批量删除 message",
   "id": "52dafaa66fea5c58"
  },
  {
   "metadata": {},
   "cell_type": "code",
   "outputs": [],
   "execution_count": null,
   "source": [
    "# 删除一个session的全部message\n",
    "memory_store.delete_messages(session_id=\"1\")"
   ],
   "id": "ada731170c5148d3"
  },
  {
   "metadata": {},
   "cell_type": "code",
   "outputs": [],
   "execution_count": null,
   "source": [
    "# 删除全部session的全部message（注意：高危）\n",
    "memory_store.delete_all_messages()"
   ],
   "id": "beb6d638df1350a6"
  },
  {
   "metadata": {},
   "cell_type": "markdown",
   "source": [
    "# 4. 实践\n",
    "\n",
    "按照用户和大模型交互的流程，将session和message进行实战应用。\n",
    "\n",
    "## 4.1 新用户进来"
   ],
   "id": "dbb3048d23ad7ad8"
  },
  {
   "metadata": {},
   "cell_type": "code",
   "outputs": [],
   "execution_count": null,
   "source": [
    "# 创建一个session\n",
    "session = Session(user_id=\"1\", session_id=\"session_id_1\")\n",
    "session.update_time = microseconds_timestamp()\n",
    "session.metadata[\"meta_使用哪个模型\"] = \"qwen.5\"\n",
    "memory_store.put_message(session)\n",
    "\n",
    "# 用户提问：你好，帮我讲个笑话\n",
    "message = Message(\n",
    "    session_id=\"session_id_1\",\n",
    "    message_id=\"message_id_1\",\n",
    "    create_time=microseconds_timestamp()\n",
    ")\n",
    "message.content = \"你好，帮我讲个笑话\"\n",
    "message.metadata[\"meta_访问来源\"] = \"web\"\n",
    "message.metadata[\"meta_消息分类\"] = \"用户\"\n",
    "memory_store.put_message(message) # 记录用户消息\n",
    "session.update_time = microseconds_timestamp()\n",
    "memory_store.put_message(session) # 记录用户消息时候，需要同时更新session信息，这里仅以更新update_time为例。\n",
    "\n",
    "# 大模型返回：小白＋小白=? 小白兔(two)\n",
    "message = Message(\n",
    "    session_id=\"session_id_1\",\n",
    "    message_id=\"message_id_2\", # 消息id改变\n",
    "    create_time=microseconds_timestamp()\n",
    ")\n",
    "message.content = \"小白＋小白=? 小白兔(two)\"\n",
    "message.metadata[\"meta_消息分类\"] = \"大模型\"\n",
    "memory_store.put_message(message) # 记录大模型消息\n",
    "\n",
    "# 用户提问：再来一个\n",
    "message = Message(\n",
    "    session_id=\"session_id_1\",\n",
    "    message_id=\"message_id_3\",  # 消息id改变\n",
    "    create_time=microseconds_timestamp()\n",
    ")\n",
    "message.content = \"再来一个\"\n",
    "message.metadata[\"meta_访问来源\"] = \"web\"\n",
    "message.metadata[\"meta_消息分类\"] = \"用户\"\n",
    "memory_store.put_message(message) \n",
    "session.update_time = microseconds_timestamp()\n",
    "memory_store.put_message(session) # 记录用户消息时候，需要同时更新session信息，这里仅以更新update_time为例。\n",
    "# 查出来上下文消息，也告诉大模型，这样大模型才知道“”\n",
    "related_messages = list(memory_store.get_messages(session_id=\"session_id_1\", max_count=3))\n",
    "\n",
    "# 大模型返回：有一个躲猫猫社团，他们团长现在还没找到。\n",
    "message = Message(\n",
    "    session_id=\"session_id_1\",\n",
    "    message_id=\"message_id_4\", # 消息id改变\n",
    "    create_time=microseconds_timestamp()\n",
    ")\n",
    "message.content = \"小白＋小白=? 小白兔(two)\"\n",
    "message.metadata[\"meta_消息分类\"] = \"大模型\"\n",
    "memory_store.put_message(message) # 记录大模型消息\n",
    "\n"
   ],
   "id": "19e7dacfd920914c"
  },
  {
   "metadata": {},
   "cell_type": "markdown",
   "source": "## 4.2 老用户继续使用历史会话",
   "id": "d51497b12a24d3cc"
  },
  {
   "metadata": {},
   "cell_type": "code",
   "outputs": [],
   "execution_count": null,
   "source": [
    "# 展示出有哪些历史会话\n",
    "sessions = list(memory_store.list_recent_sessions(user_id=\"1\", max_count=5))\n",
    "\n",
    "# 用户点击某一个会话session，这时候可以查询这个session详细信息(因为list最近会话session，有可能meta不全,如有必要刻意考虑再拿一次完整信息)\n",
    "session = memory_store.get_session(user_id=\"1\", session_id=\"session_id_1\")\n",
    "\n",
    "# 查出来当前session所有消息进行展示\n",
    "all_messages = memory_store.get_messages(session_id=\"session_id_1\")\n",
    "\n",
    "# 后续继续与大模型提问交互即可\n"
   ],
   "id": "611693e06bd74981"
  }
 ],
 "metadata": {
  "kernelspec": {
   "display_name": "Python 3",
   "language": "python",
   "name": "python3"
  },
  "language_info": {
   "codemirror_mode": {
    "name": "ipython",
    "version": 2
   },
   "file_extension": ".py",
   "mimetype": "text/x-python",
   "name": "python",
   "nbconvert_exporter": "python",
   "pygments_lexer": "ipython2",
   "version": "2.7.6"
  }
 },
 "nbformat": 4,
 "nbformat_minor": 5
}
