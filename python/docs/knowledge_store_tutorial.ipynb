{
 "cells": [
  {
   "metadata": {},
   "cell_type": "markdown",
   "source": "# Knowledge Store 使用指南",
   "id": "d2318bd61f80aac1"
  },
  {
   "metadata": {},
   "cell_type": "markdown",
   "source": "# 1. 初始化\n",
   "id": "336bfcc516a2c4f8"
  },
  {
   "metadata": {
    "ExecuteTime": {
     "end_time": "2025-04-16T12:06:28.034974Z",
     "start_time": "2025-04-16T12:06:28.029333Z"
    }
   },
   "cell_type": "code",
   "source": [
    "from tests.conftest import MockEmbedding\n",
    "from tablestore_for_agent_memory.knowledge.knowledge_store import KnowledgeStore\n",
    "import tablestore\n",
    "import os\n",
    "\n",
    "endpoint = os.getenv(\"tablestore_end_point\")\n",
    "instance_name = os.getenv(\"tablestore_instance_name\")\n",
    "access_key_id = os.getenv(\"tablestore_access_key_id\")\n",
    "access_key_secret = os.getenv(\"tablestore_access_key_secret\")\n",
    "\n",
    "# 创建 tablestore 的 sdk client\n",
    "tablestore_client = tablestore.OTSClient(\n",
    "    endpoint,\n",
    "    access_key_id,\n",
    "    access_key_secret,\n",
    "    instance_name,\n",
    "    retry_policy=tablestore.WriteRetryPolicy(),\n",
    ")\n",
    "\n",
    "# 需要索引哪些meta字段，下面进行举例。document_id/tenant_id/text_content/vector_content这些必备字段不需要设置。\n",
    "search_index_schema = [\n",
    "    tablestore.FieldSchema(\"user_id\", tablestore.FieldType.KEYWORD),\n",
    "    tablestore.FieldSchema(\"meta_string\", tablestore.FieldType.KEYWORD),\n",
    "    tablestore.FieldSchema(\"meta_long\", tablestore.FieldType.LONG),\n",
    "    tablestore.FieldSchema(\"meta_double\", tablestore.FieldType.DOUBLE),\n",
    "    tablestore.FieldSchema(\"meta_boolean\", tablestore.FieldType.BOOLEAN),\n",
    "]\n",
    "\n",
    "# 假设我们使用的embedding模型是维度=4\n",
    "embedding_model = MockEmbedding(4)\n",
    "\n",
    "knowledge_store = KnowledgeStore(\n",
    "    tablestore_client=tablestore_client,\n",
    "    vector_dimension=4,  # 需要与embedding模型的维度相等，上述我们使用的embedding模型维度为4。大多数生产使用的embedding模型维度为512/768等\n",
    "    enable_multi_tenant=True,  # 是否开启多租户能力，这里以开启多租户为例。\n",
    "    search_index_schema=search_index_schema,\n",
    ")"
   ],
   "id": "a04cc4bb3461d7df",
   "outputs": [],
   "execution_count": 2
  },
  {
   "metadata": {},
   "cell_type": "markdown",
   "source": [
    "### 多租户能力说明\n",
    "在多租户场景中，租户可以是知识库、用户、组织等，具体可以参考业务场景。通常来说使用用户id或者知识库id当做租户id有通用性。\n",
    "\n",
    "- 多租户场景举例：以用户id为例，该数据库中存储了不同用户的数据，在每次查询时候，一定会带上用户id的filter限制，来查询这个用户的数据里最相似的文档，则该场景是适合多租户能力的。开启多租户后，会在多元索引里设置路由，同时开启一些向量检索的多租户优化能力，降低查询延时，提高召回率。\n",
    "- 非多租户场景举例：数据库中只存储了一个用户的某一个领域的全部数据，查询时候，不会添加用户id、知识库id等租户特征的filter条件，每次都是在全部数据中查找最相似的文档，该场景则适合非多租户。\n",
    "\n",
    "\n"
   ],
   "id": "dbd6baa11f1944a6"
  },
  {
   "metadata": {
    "ExecuteTime": {
     "end_time": "2025-04-16T11:42:01.641880Z",
     "start_time": "2025-04-16T11:41:59.962736Z"
    }
   },
   "cell_type": "code",
   "source": [
    "# 创建表(包括多元索引)\n",
    "# 仅需执行一次\n",
    "knowledge_store.init_table()"
   ],
   "id": "1d23040f50e60d07",
   "outputs": [],
   "execution_count": 14
  },
  {
   "metadata": {},
   "cell_type": "code",
   "source": [
    "# 删除表（内部接口，仅供测试使用）\n",
    "knowledge_store._delete_table()"
   ],
   "id": "b0c964451c48fd19",
   "outputs": [],
   "execution_count": null
  },
  {
   "metadata": {},
   "cell_type": "markdown",
   "source": [
    " # 2. 文档管理\n",
    "\n",
    "本章节主要介绍文档的增删改查。\n",
    "\n",
    "## 2.1 声明 Document"
   ],
   "id": "ac7fa8532175aef3"
  },
  {
   "metadata": {
    "ExecuteTime": {
     "end_time": "2025-04-16T12:23:45.079393Z",
     "start_time": "2025-04-16T12:23:45.074954Z"
    }
   },
   "cell_type": "code",
   "source": [
    "from tablestore_for_agent_memory.base.base_knowledge_store import Document\n",
    "\n",
    "# 声明一个Document\n",
    "# document_id和tenant_id(租户id)唯一确认一行数据。 如果创建 KnowledgeStore 时候没开启多租户能力，tenant_id 参数不填即可。\n",
    "document = Document(document_id=\"1\", tenant_id=\"user_id_1\")\n",
    "# 文档的文本内容\n",
    "document.text_content = \"123\"\n",
    "# 文档的向量内容，格式为 list[float], 此处我们调用embedding模型将文档的文本内容转成向量\n",
    "document.vector_content = embedding_model.embedding(document.text_content)\n",
    "# 声明一些额外的meta信息\n",
    "document.metadata[\"meta_string\"] = \"123\"\n",
    "document.metadata[\"meta_bool\"] = True\n",
    "document.metadata[\"meta_double\"] = 123.456\n",
    "document.metadata[\"meta_long\"] = 123456\n",
    "document.metadata[\"meta_bytes\"] = bytearray(\"China\", encoding=\"utf8\")"
   ],
   "id": "78a9e9e47e75273e",
   "outputs": [],
   "execution_count": 23
  },
  {
   "metadata": {},
   "cell_type": "markdown",
   "source": "## 2.2 创建、更新、查询、删除 Session\n",
   "id": "83e9778329996b68"
  },
  {
   "metadata": {
    "ExecuteTime": {
     "end_time": "2025-04-16T12:23:47.056013Z",
     "start_time": "2025-04-16T12:23:46.995490Z"
    }
   },
   "cell_type": "code",
   "source": [
    "# 创建(不管是否存在，都会进行覆盖写入)\n",
    "knowledge_store.put_document(document)\n",
    "# 查询 （如果创建 KnowledgeStore 时候没开启多租户能力，tenant_id 参数不填即可。）\n",
    "document = knowledge_store.get_document(document_id=\"1\", tenant_id=\"user_id_1\")\n",
    "print(document)\n",
    "print(document.metadata[\"meta_string\"])"
   ],
   "id": "ab3fe35b80b7c38d",
   "outputs": [
    {
     "name": "stdout",
     "output_type": "stream",
     "text": [
      "Document(document_id='1', tenant_id='user_id_1', text_content='123', vector_content=[0.24378446113768007, 0.24378446113768007, 0.24378446113768007, 0.24378446113768007], metadata={'meta_bool': True, 'meta_bytes': bytearray(b'China'), 'meta_double': 123.456, 'meta_long': 123456, 'meta_string': '123'})\n",
      "123\n"
     ]
    }
   ],
   "execution_count": 24
  },
  {
   "metadata": {
    "ExecuteTime": {
     "end_time": "2025-04-16T11:50:18.721675Z",
     "start_time": "2025-04-16T11:50:18.646319Z"
    }
   },
   "cell_type": "code",
   "source": [
    "document_for_update = Document(document_id=\"1\", tenant_id=\"user_id_1\")\n",
    "document_for_update.metadata[\"meta_string\"] = \"updated from 123\"\n",
    "# 增量更新 (无更新场景，推荐使用 put_document 进行覆盖写入) 此处我们将上述文档的\"meta_string\"字段修改为一个新值\n",
    "knowledge_store.update_document(document_for_update)\n",
    "# 再次查询该文档，得到更新后的值\n",
    "document = knowledge_store.get_document(document_id=\"1\", tenant_id=\"user_id_1\")\n",
    "print(document.metadata[\"meta_string\"])"
   ],
   "id": "29ccac828c84080e",
   "outputs": [
    {
     "name": "stdout",
     "output_type": "stream",
     "text": [
      "updated from 123\n"
     ]
    }
   ],
   "execution_count": 30
  },
  {
   "metadata": {
    "ExecuteTime": {
     "end_time": "2025-04-16T11:50:50.108032Z",
     "start_time": "2025-04-16T11:50:49.966167Z"
    }
   },
   "cell_type": "code",
   "source": [
    "# 批量获取文档\n",
    "id_list = [\"0\", \"1\", \"2\"]\n",
    "# 如果创建 KnowledgeStore 时候没开启多租户能力，tenant_id 参数不填即可。\n",
    "documents_by_batch_get = knowledge_store.get_documents(document_id_list=id_list, tenant_id=\"user_id_1\")\n",
    "print(\"第0个文档:\", documents_by_batch_get[0])\n",
    "print(\"第1个文档:\", documents_by_batch_get[1])\n",
    "print(\"第2个文档:\", documents_by_batch_get[2])"
   ],
   "id": "ba8188367c914395",
   "outputs": [
    {
     "name": "stdout",
     "output_type": "stream",
     "text": [
      "第0个文档: None\n",
      "第1个文档: Document(document_id='1', tenant_id='user_id_1', text_content='123', vector_content=[0.24680628233411753, 0.24680628233411753, 0.24680628233411753, 0.24680628233411753], metadata={'meta_bool': True, 'meta_bytes': bytearray(b'China'), 'meta_double': 123.456, 'meta_long': 123456, 'meta_string': 'updated from 123'})\n",
      "第2个文档: None\n"
     ]
    }
   ],
   "execution_count": 31
  },
  {
   "metadata": {
    "ExecuteTime": {
     "end_time": "2025-04-16T11:50:54.004965Z",
     "start_time": "2025-04-16T11:50:53.945533Z"
    }
   },
   "cell_type": "code",
   "source": [
    "# 删除（如果创建 KnowledgeStore 时候没开启多租户能力，tenant_id 参数不填即可。）\n",
    "knowledge_store.delete_document(document_id=\"1\", tenant_id=\"user_id_1\")\n",
    "print(knowledge_store.get_document(document_id=\"1\", tenant_id=\"user_id_1\"))"
   ],
   "id": "8cfb0b32e3ecee2a",
   "outputs": [
    {
     "name": "stdout",
     "output_type": "stream",
     "text": [
      "None\n"
     ]
    }
   ],
   "execution_count": 32
  },
  {
   "metadata": {
    "ExecuteTime": {
     "end_time": "2025-04-16T12:23:51.396972Z",
     "start_time": "2025-04-16T12:23:51.308182Z"
    }
   },
   "cell_type": "code",
   "source": [
    "# 根据租户删除数据\n",
    "knowledge_store.delete_document_by_tenant(tenant_id=\"user_id_1\")\n",
    "print(knowledge_store.get_document(document_id=\"1\", tenant_id=\"user_id_1\"))"
   ],
   "id": "e9372d17d86df77a",
   "outputs": [
    {
     "name": "stdout",
     "output_type": "stream",
     "text": [
      "None\n"
     ]
    }
   ],
   "execution_count": 25
  },
  {
   "metadata": {},
   "cell_type": "markdown",
   "source": [
    "## 2.3 搜索文档\n",
    "\n",
    "### 2.3.1 写入样例数据\n",
    " "
   ],
   "id": "bb023cf50e1c70b7"
  },
  {
   "metadata": {
    "ExecuteTime": {
     "end_time": "2025-04-16T12:01:44.651865Z",
     "start_time": "2025-04-16T12:01:41.193478Z"
    }
   },
   "cell_type": "code",
   "source": [
    "from faker import Faker\n",
    "import random\n",
    "\n",
    "fk_data = Faker(locale=\"zh_CN\")\n",
    "\n",
    "\n",
    "def random_document() -> Document:\n",
    "    tenant_id = random.choice([\"1\", \"2\"])\n",
    "    document = Document(document_id=fk_data.uuid4(), tenant_id=tenant_id)\n",
    "    # 文档的文本内容\n",
    "    document.text_content = \" \".join(\n",
    "        random.choices(\n",
    "            [\"abc\", \"def\", \"ghi\", \"abcd\", \"adef\", \"abcgh\", \"apple\", \"banana\", \"cherry\"], k=random.randint(1, 10)\n",
    "        )\n",
    "    )\n",
    "    # 文档的向量内容，格式为 list[float], 此处我们调用embedding模型将文档的文本内容转成向量\n",
    "    document.vector_content = embedding_model.embedding(document.text_content)\n",
    "    # 声明一些额外的meta信息\n",
    "    document.metadata[\"meta_string\"] = fk_data.name_female()\n",
    "    document.metadata[\"meta_long\"] = random.randint(0, 88888888)\n",
    "    document.metadata[\"meta_double\"] = random.uniform(1.0, 2.0)\n",
    "    document.metadata[\"meta_boolean\"] = random.choice([False, True])\n",
    "    document.metadata[\"meta_bytes\"] = bytearray(fk_data.city_name(), encoding=\"utf8\")\n",
    "    return document\n",
    "\n",
    "\n",
    "total_count = 100\n",
    "for i in range(total_count):\n",
    "    document = random_document()\n",
    "    knowledge_store.put_document(document)"
   ],
   "id": "873c02f6ba8fa12f",
   "outputs": [],
   "execution_count": 33
  },
  {
   "metadata": {},
   "cell_type": "markdown",
   "source": "### 2.3.2 向量检索\n",
   "id": "2f72a842803ce3ed"
  },
  {
   "metadata": {
    "ExecuteTime": {
     "end_time": "2025-04-16T12:12:43.179045Z",
     "start_time": "2025-04-16T12:12:42.976910Z"
    }
   },
   "cell_type": "code",
   "source": [
    "from tablestore_for_agent_memory.base.filter import Filters\n",
    "\n",
    "# 查询和“abc”相似的文档\n",
    "query_vector = embedding_model.embedding(\"abc\")\n",
    "\n",
    "document_hits, _ = knowledge_store.vector_search(\n",
    "    query_vector=query_vector,\n",
    "    top_k=20,\n",
    "    tenant_id=\"1\",  # 租户id。(如果创建 KnowledgeStore 时候没开启多租户能力，tenant_id 参数不填即可)\n",
    "    metadata_filter=Filters.logical_and(\n",
    "        [Filters.eq(\"meta_boolean\", True), Filters.gt(\"meta_long\", 1)]\n",
    "    ),  # 添加过滤条件：meta_boolean=true 且 meta_long>1\n",
    ")\n",
    "print(len(document_hits))\n",
    "\n",
    "# 展示前2个文档\n",
    "for hit in document_hits[:2]:\n",
    "    print(\"文档内容:\", hit.document)\n",
    "    print(\"文档分数:\", hit.score)"
   ],
   "id": "3c94f392bb7c0d8f",
   "outputs": [
    {
     "name": "stdout",
     "output_type": "stream",
     "text": [
      "20\n",
      "文档内容: Document(document_id='1f69fed7-b195-40dc-b2d0-5c6c4bb662b7', tenant_id='1', text_content='apple', vector_content=None, metadata={'meta_boolean': True, 'meta_double': 1.5448139375851748, 'meta_long': 17396403, 'meta_string': '罗桂芝'})\n",
      "文档分数: 1.0\n",
      "文档内容: Document(document_id='3960a0e9-5565-41bd-ab43-158baf9f2596', tenant_id='1', text_content='ghi abcd', vector_content=None, metadata={'meta_boolean': True, 'meta_double': 1.131841860692934, 'meta_long': 47111749, 'meta_string': '张玉华'})\n",
      "文档分数: 1.0\n"
     ]
    }
   ],
   "execution_count": 10
  },
  {
   "metadata": {},
   "cell_type": "markdown",
   "source": "### 2.3.3 全文检索",
   "id": "49b87639564f4578"
  },
  {
   "metadata": {
    "ExecuteTime": {
     "end_time": "2025-04-16T12:13:08.528405Z",
     "start_time": "2025-04-16T12:13:08.494367Z"
    }
   },
   "cell_type": "code",
   "source": [
    "# 全文检索“abc”相关的文档\n",
    "\n",
    "# next_token可以进行连续翻页\n",
    "document_hits, next_token = knowledge_store.full_text_search(\n",
    "    query=\"abc\",\n",
    "    tenant_id=\"1\",  # 租户id。(如果创建 KnowledgeStore 时候没开启多租户能力，tenant_id 参数不填即可)\n",
    "    limit=20,\n",
    "    metadata_filter=Filters.logical_and(\n",
    "        [Filters.eq(\"meta_boolean\", True), Filters.gt(\"meta_long\", 1)]\n",
    "    ),  # 添加过滤条件：meta_boolean=true 且 meta_long>1\n",
    ")\n",
    "\n",
    "print(len(document_hits))\n",
    "\n",
    "# 展示前2个文档\n",
    "for hit in document_hits[:2]:\n",
    "    print(\"文档内容:\", hit.document)\n",
    "    print(\"文档分数:\", hit.score)"
   ],
   "id": "69c80f4e382fea1e",
   "outputs": [
    {
     "name": "stdout",
     "output_type": "stream",
     "text": [
      "9\n",
      "文档内容: Document(document_id='db266e1a-76e8-418d-8824-d4044a47471f', tenant_id='1', text_content='apple apple abc abc banana', vector_content=None, metadata={'meta_boolean': True, 'meta_double': 1.3339972044754749, 'meta_long': 76492008, 'meta_string': '王坤'})\n",
      "文档分数: 3.535884380340576\n",
      "文档内容: Document(document_id='6778137e-29f8-4e25-887f-ae4336c9550b', tenant_id='1', text_content='def abc', vector_content=None, metadata={'meta_boolean': True, 'meta_double': 1.746714507976319, 'meta_long': 11274797, 'meta_string': '王成'})\n",
      "文档分数: 3.4931881427764893\n"
     ]
    }
   ],
   "execution_count": 11
  },
  {
   "metadata": {},
   "cell_type": "markdown",
   "source": [
    "### 2.3.4 通用检索\n",
    "\n"
   ],
   "id": "e791bb0ce973ba48"
  },
  {
   "metadata": {
    "ExecuteTime": {
     "end_time": "2025-04-16T12:22:37.499138Z",
     "start_time": "2025-04-16T12:22:37.352994Z"
    }
   },
   "cell_type": "code",
   "source": [
    "document_hits, next_token = knowledge_store.search_documents(\n",
    "    tenant_id=\"1\",  # 租户id。(如果创建 KnowledgeStore 时候没开启多租户能力，tenant_id 参数不填即可)\n",
    "    limit=20,\n",
    "    metadata_filter=Filters.logical_and(\n",
    "        [Filters.eq(\"meta_boolean\", True), Filters.gt(\"meta_long\", 1)]\n",
    "    ),  # 添加过滤条件：meta_boolean=true 且 meta_long>1\n",
    "    meta_data_to_get=[\"text_content\", \"meta_string\", \"meta_boolean\"],  # 只返回这三个字段,不填则默认返回索引里有的字段\n",
    ")\n",
    "\n",
    "print(len(document_hits))\n",
    "\n",
    "# 展示前2个文档\n",
    "for hit in document_hits[:2]:\n",
    "    print(\"文档内容:\", hit.document)\n",
    "    print(\"文档分数:\", hit.score)"
   ],
   "id": "6804c14e2bc6187",
   "outputs": [
    {
     "name": "stdout",
     "output_type": "stream",
     "text": [
      "20\n",
      "文档内容: Document(document_id='1f69fed7-b195-40dc-b2d0-5c6c4bb662b7', tenant_id='1', text_content='apple', vector_content=None, metadata={'meta_boolean': True, 'meta_string': '罗桂芝'})\n",
      "文档分数: None\n",
      "文档内容: Document(document_id='3960a0e9-5565-41bd-ab43-158baf9f2596', tenant_id='1', text_content='ghi abcd', vector_content=None, metadata={'meta_boolean': True, 'meta_string': '张玉华'})\n",
      "文档分数: None\n"
     ]
    }
   ],
   "execution_count": 18
  },
  {
   "metadata": {
    "ExecuteTime": {
     "end_time": "2025-04-16T12:22:40.507607Z",
     "start_time": "2025-04-16T12:22:39.811917Z"
    }
   },
   "cell_type": "code",
   "source": [
    "# 翻页获取所有数据, 每页获取limit=3.\n",
    "total_document_hits = []\n",
    "next_token = None\n",
    "while True:\n",
    "    document_hits, next_token = knowledge_store.search_documents(\n",
    "        tenant_id=\"1\",\n",
    "        limit=3,\n",
    "        meta_data_to_get=[\n",
    "            \"text_content\",\n",
    "            \"meta_string\",\n",
    "            \"meta_boolean\",\n",
    "        ],  # 只返回这三个字段,不填则默认返回索引里有的字段\n",
    "        next_token=next_token,\n",
    "    )\n",
    "    total_document_hits.extend(document_hits)\n",
    "    if next_token is None:\n",
    "        break\n",
    "print(\"total docs\", len(total_document_hits))"
   ],
   "id": "60ef3201d2e7c51a",
   "outputs": [
    {
     "name": "stdout",
     "output_type": "stream",
     "text": [
      "total docs 55\n"
     ]
    }
   ],
   "execution_count": 19
  }
 ],
 "metadata": {
  "kernelspec": {
   "display_name": "Python 3",
   "language": "python",
   "name": "python3"
  },
  "language_info": {
   "codemirror_mode": {
    "name": "ipython",
    "version": 2
   },
   "file_extension": ".py",
   "mimetype": "text/x-python",
   "name": "python",
   "nbconvert_exporter": "python",
   "pygments_lexer": "ipython2",
   "version": "2.7.6"
  }
 },
 "nbformat": 4,
 "nbformat_minor": 5
}
